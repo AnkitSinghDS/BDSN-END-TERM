{
  "nbformat": 4,
  "nbformat_minor": 0,
  "metadata": {
    "colab": {
      "name": "BDSN END TERM ASSIGNMENT.ipynb",
      "provenance": [],
      "mount_file_id": "1zAzBt6l4O8eryKIxH8xH2yw4Wk8TW1ZN",
      "authorship_tag": "ABX9TyP8cr22wUE4m/qBKfEC9Z/P",
      "include_colab_link": true
    },
    "kernelspec": {
      "name": "python3",
      "display_name": "Python 3"
    },
    "language_info": {
      "name": "python"
    }
  },
  "cells": [
    {
      "cell_type": "markdown",
      "metadata": {
        "id": "view-in-github",
        "colab_type": "text"
      },
      "source": [
        "<a href=\"https://colab.research.google.com/github/AnkitSinghDS/BDSN-END-TERM/blob/main/BDSN_END_TERM_ASSIGNMENT.ipynb\" target=\"_parent\"><img src=\"https://colab.research.google.com/assets/colab-badge.svg\" alt=\"Open In Colab\"/></a>"
      ]
    },
    {
      "cell_type": "markdown",
      "source": [
        "## <center><u>PREDICTING FLIGHT DELAYS WITH APACHE SPARK</u></center>\n"
      ],
      "metadata": {
        "id": "usHEHXmNZLON"
      }
    },
    {
      "cell_type": "markdown",
      "source": [
        "Here we have classification data with us on which we are going to run our model to predict flight delays.<br> Classification is a family of supervised machine learning algorithms that identify which category an item belongs to (e.g., whether a transaction is fraud or not fraud), based on labeled examples of known items (e.g., transactions known to be fraud or not). Classification takes a set of data with known labels and pre-determined features and learns how to label new records based on that information.</br>"
      ],
      "metadata": {
        "id": "B90TKDVYbu8l"
      }
    },
    {
      "cell_type": "markdown",
      "source": [
        "### Decision Tree\n",
        "Here in our model we are going to use decision tree. Decision Trees are a type of Supervised Machine Learning where the data is continuously split according to a certain parameter. The tree can be explained by two entities, namely decision nodes and leaves."
      ],
      "metadata": {
        "id": "kY3uTpO8cPdN"
      }
    },
    {
      "cell_type": "markdown",
      "source": [
        "## Installation"
      ],
      "metadata": {
        "id": "RHkVgXlEB9fM"
      }
    },
    {
      "cell_type": "markdown",
      "source": [
        "<br>As this is VM so everytime for a new VM we have to install our basic tools. So firstly we are installing java and after that hadoop and spark."
      ],
      "metadata": {
        "id": "llw7DBfoCFUe"
      }
    },
    {
      "cell_type": "markdown",
      "source": [
        "### Java Installation \n",
        "- Here we are installing updated java in our VM"
      ],
      "metadata": {
        "id": "6RreXSg8CHJl"
      }
    },
    {
      "cell_type": "code",
      "source": [
        "!apt update > /dev/null\n",
        "!apt install openjdk-8-jdk-headless -qq > /dev/null"
      ],
      "metadata": {
        "colab": {
          "base_uri": "https://localhost:8080/"
        },
        "id": "-hmF2tXHCPz0",
        "outputId": "8602857a-0c04-4e84-f431-1601235f1400"
      },
      "execution_count": 10,
      "outputs": [
        {
          "output_type": "stream",
          "name": "stdout",
          "text": [
            "\n",
            "WARNING: apt does not have a stable CLI interface. Use with caution in scripts.\n",
            "\n",
            "\n",
            "WARNING: apt does not have a stable CLI interface. Use with caution in scripts.\n",
            "\n"
          ]
        }
      ]
    },
    {
      "cell_type": "markdown",
      "source": [
        "**Spark Installation**\n",
        "\n",
        "\n",
        "*   Here we are downloading spark files from the internet using !wget command and then we are installing spark in our VM on top of hadoop."
      ],
      "metadata": {
        "id": "lDyKW4okCeQS"
      }
    },
    {
      "cell_type": "code",
      "source": [
        "!wget -q http://apache.osuosl.org/spark/spark-3.1.2/spark-3.1.2-bin-hadoop3.2.tgz\n",
        "\n",
        "\n",
        "!tar xf spark-3.1.2-bin-hadoop3.2.tgz\n",
        "\n",
        "!pip install -q pyspark\n",
        "\n",
        "import os\n",
        "os.environ[\"JAVA_HOME\"] = \"/usr/lib/jvm/java-8-openjdk-amd64\"\n",
        "\n",
        "os.environ[\"SPARK_HOME\"] = \"/content/spark-3.1.2-bin-hadoop3.2\""
      ],
      "metadata": {
        "id": "xlbwFY4aCiOB"
      },
      "execution_count": 11,
      "outputs": []
    },
    {
      "cell_type": "markdown",
      "source": [
        "**spark Session**\n",
        "\n",
        "\n",
        "*   *Spark session is a unified entry point of a spark application from Spark 2.0. It provides a way to interact with various spark's functionality with a lesser number of constructs.*\n",
        "*   Here we have imported sparkSession and we have created a new spark session"
      ],
      "metadata": {
        "id": "XKubDyq_DGZs"
      }
    },
    {
      "cell_type": "code",
      "source": [
        "from pyspark.sql import SparkSession\n",
        "#spark = SparkSession.builder.master(\"local[*]\").getOrCreate()\n",
        "# note UI port switched from default 4040 to 4050 to avoid clash with ngrok\n",
        "spark = SparkSession.builder.master(\"local[*]\").config('spark.ui.port', '4050').getOrCreate()"
      ],
      "metadata": {
        "id": "Y1h4P2nQDHcW"
      },
      "execution_count": 12,
      "outputs": []
    },
    {
      "cell_type": "markdown",
      "source": [
        "**Spark Context** \n",
        "\n",
        "\n",
        "*   Spark context is the main entry point for spark functionality. spark context allows our spark applications to access spark cluster. *Here in our code also we are creating one operator of sparkContext so that we can access spark clusters.*\n"
      ],
      "metadata": {
        "id": "HEhqJjrYDaVP"
      }
    },
    {
      "cell_type": "code",
      "source": [
        "sc = spark.sparkContext"
      ],
      "metadata": {
        "id": "I5q6GU5nDb-i"
      },
      "execution_count": 13,
      "outputs": []
    },
    {
      "cell_type": "code",
      "source": [
        "sc"
      ],
      "metadata": {
        "colab": {
          "base_uri": "https://localhost:8080/",
          "height": 196
        },
        "id": "SaDZRoXBDgA1",
        "outputId": "ffbc88cc-cb84-4ea1-d555-a176de3fbcba"
      },
      "execution_count": 14,
      "outputs": [
        {
          "output_type": "execute_result",
          "data": {
            "text/html": [
              "\n",
              "        <div>\n",
              "            <p><b>SparkContext</b></p>\n",
              "\n",
              "            <p><a href=\"http://9c1c4fa4411d:4050\">Spark UI</a></p>\n",
              "\n",
              "            <dl>\n",
              "              <dt>Version</dt>\n",
              "                <dd><code>v3.1.2</code></dd>\n",
              "              <dt>Master</dt>\n",
              "                <dd><code>local[*]</code></dd>\n",
              "              <dt>AppName</dt>\n",
              "                <dd><code>pyspark-shell</code></dd>\n",
              "            </dl>\n",
              "        </div>\n",
              "        "
            ],
            "text/plain": [
              "<SparkContext master=local[*] appName=pyspark-shell>"
            ]
          },
          "metadata": {},
          "execution_count": 14
        }
      ]
    },
    {
      "cell_type": "code",
      "source": [
        "import os\n",
        "import pandas as pd\n",
        "import numpy as np\n",
        "\n",
        "from pyspark import SparkConf, SparkContext\n",
        "from pyspark.sql import SparkSession, SQLContext\n",
        "\n",
        "from pyspark.sql.types import *\n",
        "from pyspark.sql.functions import udf, col\n",
        "\n",
        "from pyspark.ml import Pipeline, PipelineModel\n",
        "from pyspark.ml.tuning import ParamGridBuilder, CrossValidator, CrossValidatorModel\n",
        "from pyspark.ml.feature import Bucketizer, StringIndexer, OneHotEncoder, VectorAssembler\n",
        "from pyspark.ml.evaluation import BinaryClassificationEvaluator, MulticlassClassificationEvaluator\n",
        "\n",
        "from pyspark.mllib.evaluation import MulticlassMetrics"
      ],
      "metadata": {
        "id": "Ek6WYybqEbI8"
      },
      "execution_count": 16,
      "outputs": []
    },
    {
      "cell_type": "code",
      "source": [
        "sqlContext = SQLContext(spark.sparkContext)\n",
        "sqlContext"
      ],
      "metadata": {
        "colab": {
          "base_uri": "https://localhost:8080/"
        },
        "id": "Gn9Fiep_EUZR",
        "outputId": "765021ff-336d-4440-d35d-35a15eee2338"
      },
      "execution_count": 17,
      "outputs": [
        {
          "output_type": "stream",
          "name": "stderr",
          "text": [
            "/usr/local/lib/python3.7/dist-packages/pyspark/sql/context.py:79: FutureWarning: Deprecated in 3.0.0. Use SparkSession.builder.getOrCreate() instead.\n",
            "  FutureWarning\n"
          ]
        },
        {
          "output_type": "execute_result",
          "data": {
            "text/plain": [
              "<pyspark.sql.context.SQLContext at 0x7f03099de810>"
            ]
          },
          "metadata": {},
          "execution_count": 17
        }
      ]
    },
    {
      "cell_type": "markdown",
      "source": [
        "**Importing required libraries**"
      ],
      "metadata": {
        "id": "nIMNtg2DDz3D"
      }
    },
    {
      "cell_type": "code",
      "source": [
        "import os\n",
        "import pandas as pd\n",
        "import numpy as np\n",
        "\n",
        "from pyspark import SparkConf, SparkContext\n",
        "from pyspark.sql import SparkSession, SQLContext\n",
        "\n",
        "from pyspark.sql.types import *\n",
        "from pyspark.sql.functions import udf, col\n",
        "\n",
        "from pyspark.ml import Pipeline, PipelineModel\n",
        "from pyspark.ml.tuning import ParamGridBuilder, CrossValidator, CrossValidatorModel\n",
        "from pyspark.ml.feature import Bucketizer, StringIndexer, OneHotEncoder, VectorAssembler\n",
        "from pyspark.ml.evaluation import BinaryClassificationEvaluator, MulticlassClassificationEvaluator\n",
        "\n",
        "from pyspark.mllib.evaluation import MulticlassMetrics"
      ],
      "metadata": {
        "id": "etPp4KOCDyWY"
      },
      "execution_count": 18,
      "outputs": []
    },
    {
      "cell_type": "code",
      "source": [
        "import seaborn as sns\n",
        "import matplotlib.pyplot as plt"
      ],
      "metadata": {
        "id": "WKmNzN-kEAFP"
      },
      "execution_count": 19,
      "outputs": []
    },
    {
      "cell_type": "code",
      "source": [
        "# Visualization\n",
        "from IPython.core.interactiveshell import InteractiveShell\n",
        "InteractiveShell.ast_node_interactivity = \"all\"\n",
        "\n",
        "pd.set_option('display.max_columns', 200)\n",
        "pd.set_option('display.max_colwidth', 400)\n",
        "\n",
        "from matplotlib import rcParams\n",
        "sns.set(context='notebook', style='whitegrid', rc={'figure.figsize': (18,4)})\n",
        "rcParams['figure.figsize'] = 18,4\n",
        "\n",
        "%matplotlib inline\n",
        "%config InlineBackend.figure_format = 'retina'"
      ],
      "metadata": {
        "id": "_Q_8i_gMEE16"
      },
      "execution_count": 20,
      "outputs": []
    },
    {
      "cell_type": "code",
      "source": [
        "# setting random seed for notebook reproducability\n",
        "rnd_seed=36\n",
        "np.random.seed=rnd_seed\n",
        "np.random.set_state=rnd_seed"
      ],
      "metadata": {
        "id": "7T4ZeUaDEPe_"
      },
      "execution_count": 21,
      "outputs": []
    },
    {
      "cell_type": "markdown",
      "source": [
        "### Loading the Data from a file into a DataFrame\n",
        "We are going to load two datasets one for training and one for testing. For training we are loading data of january and february. For testing the model we will load the data from March and april. We already have two datsets one for trainig and one for testing that we are loading to our VM."
      ],
      "metadata": {
        "id": "fdiyWkCUEkU2"
      }
    },
    {
      "cell_type": "code",
      "source": [
        "\n",
        "FLIGHTS_TRAIN_DATA = '/content/drive/MyDrive/Assignment Data/flights20170102.json'\n",
        "FLIGHTS_TEST_DATA = '/content/drive/MyDrive/Assignment Data/flights20170304.json'"
      ],
      "metadata": {
        "id": "tdIpkWUEElvd"
      },
      "execution_count": 22,
      "outputs": []
    },
    {
      "cell_type": "markdown",
      "source": [
        "Below we specify the data source, schema and class to load into a Dataset. We load the data from January and February, which we will use for training the model. (Note that specifying the schema when loading data into a DataFrame will give better performance than schema inference)."
      ],
      "metadata": {
        "id": "Dp8Sw1PsFEoY"
      }
    },
    {
      "cell_type": "code",
      "source": [
        "# define the schema, corresponding to a line in the JSON data file.\n",
        "schema = StructType([\n",
        "    StructField(\"_id\", StringType(), nullable=True),\n",
        "    StructField(\"dofW\", IntegerType(), nullable=True),\n",
        "    StructField(\"carrier\", StringType(), nullable=True),\n",
        "    StructField(\"origin\", StringType(), nullable=True),\n",
        "    StructField(\"dest\", StringType(), nullable=True),\n",
        "    StructField(\"crsdephour\", IntegerType(), nullable=True),\n",
        "    StructField(\"crsdeptime\", DoubleType(), nullable=True),\n",
        "    StructField(\"depdelay\", DoubleType(), nullable=True),\n",
        "    StructField(\"crsarrtime\", DoubleType(), nullable=True),\n",
        "    StructField(\"arrdelay\", DoubleType(), nullable=True),\n",
        "    StructField(\"crselapsedtime\", DoubleType(), nullable=True),\n",
        "    StructField(\"dist\", DoubleType(), nullable=True)]\n",
        "  )"
      ],
      "metadata": {
        "id": "FIi7E-IeFFh7"
      },
      "execution_count": 23,
      "outputs": []
    },
    {
      "cell_type": "code",
      "source": [
        "# Load training data\n",
        "train_df = spark.read.json(path=FLIGHTS_TRAIN_DATA, schema=schema)\n",
        "train_df.cache()"
      ],
      "metadata": {
        "colab": {
          "base_uri": "https://localhost:8080/"
        },
        "id": "FZfm8usGFPO6",
        "outputId": "f818132f-ffdf-43af-bcea-ff770cbe2e59"
      },
      "execution_count": 24,
      "outputs": [
        {
          "output_type": "execute_result",
          "data": {
            "text/plain": [
              "DataFrame[_id: string, dofW: int, carrier: string, origin: string, dest: string, crsdephour: int, crsdeptime: double, depdelay: double, crsarrtime: double, arrdelay: double, crselapsedtime: double, dist: double]"
            ]
          },
          "metadata": {},
          "execution_count": 24
        }
      ]
    },
    {
      "cell_type": "code",
      "source": [
        "# How many training rows\n",
        "train_df.count()"
      ],
      "metadata": {
        "colab": {
          "base_uri": "https://localhost:8080/"
        },
        "id": "TeZLUInVFTE0",
        "outputId": "87f6e26c-e931-4fc6-97a8-6967d74142e1"
      },
      "execution_count": 25,
      "outputs": [
        {
          "output_type": "execute_result",
          "data": {
            "text/plain": [
              "41348"
            ]
          },
          "metadata": {},
          "execution_count": 25
        }
      ]
    },
    {
      "cell_type": "code",
      "source": [
        "train_df.show(5)"
      ],
      "metadata": {
        "colab": {
          "base_uri": "https://localhost:8080/"
        },
        "id": "Ro_OKR4AFZES",
        "outputId": "c631d89a-b714-4892-fb30-1804da178cda"
      },
      "execution_count": 26,
      "outputs": [
        {
          "output_type": "stream",
          "name": "stdout",
          "text": [
            "+--------------------+----+-------+------+----+----------+----------+--------+----------+--------+--------------+------+\n",
            "|                 _id|dofW|carrier|origin|dest|crsdephour|crsdeptime|depdelay|crsarrtime|arrdelay|crselapsedtime|  dist|\n",
            "+--------------------+----+-------+------+----+----------+----------+--------+----------+--------+--------------+------+\n",
            "|AA_2017-01-01_ATL...|   7|     AA|   ATL| LGA|        17|    1700.0|     0.0|    1912.0|     0.0|         132.0| 762.0|\n",
            "|AA_2017-01-01_LGA...|   7|     AA|   LGA| ATL|        13|    1343.0|     0.0|    1620.0|     0.0|         157.0| 762.0|\n",
            "|AA_2017-01-01_MIA...|   7|     AA|   MIA| ATL|         9|     939.0|     0.0|    1137.0|    10.0|         118.0| 594.0|\n",
            "|AA_2017-01-01_ORD...|   7|     AA|   ORD| MIA|        20|    2020.0|     0.0|      26.0|     0.0|         186.0|1197.0|\n",
            "|AA_2017-01-01_LGA...|   7|     AA|   LGA| MIA|         7|     700.0|     0.0|    1017.0|     0.0|         197.0|1096.0|\n",
            "+--------------------+----+-------+------+----+----------+----------+--------+----------+--------+--------------+------+\n",
            "only showing top 5 rows\n",
            "\n"
          ]
        }
      ]
    },
    {
      "cell_type": "markdown",
      "source": [
        "Here we load data from March and April which we will use for testing the model:"
      ],
      "metadata": {
        "id": "nsjkr3BJFdBm"
      }
    },
    {
      "cell_type": "code",
      "source": [
        "# Load testing data\n",
        "test_df = spark.read.json(path=FLIGHTS_TEST_DATA, schema=schema)\n",
        "test_df.cache()"
      ],
      "metadata": {
        "colab": {
          "base_uri": "https://localhost:8080/"
        },
        "id": "ZyslMyJ2GQ1i",
        "outputId": "ede1c725-a86e-4dd3-cc46-cacb03eef135"
      },
      "execution_count": 27,
      "outputs": [
        {
          "output_type": "execute_result",
          "data": {
            "text/plain": [
              "DataFrame[_id: string, dofW: int, carrier: string, origin: string, dest: string, crsdephour: int, crsdeptime: double, depdelay: double, crsarrtime: double, arrdelay: double, crselapsedtime: double, dist: double]"
            ]
          },
          "metadata": {},
          "execution_count": 27
        }
      ]
    },
    {
      "cell_type": "code",
      "source": [
        "# How many testing rows\n",
        "test_df.count()"
      ],
      "metadata": {
        "colab": {
          "base_uri": "https://localhost:8080/"
        },
        "id": "3Od85NC2GTer",
        "outputId": "238e6951-e932-48e2-8871-0a7226b16570"
      },
      "execution_count": 28,
      "outputs": [
        {
          "output_type": "execute_result",
          "data": {
            "text/plain": [
              "45448"
            ]
          },
          "metadata": {},
          "execution_count": 28
        }
      ]
    },
    {
      "cell_type": "code",
      "source": [
        "test_df.show(5)"
      ],
      "metadata": {
        "colab": {
          "base_uri": "https://localhost:8080/"
        },
        "id": "KNPWqs2ZGVk1",
        "outputId": "50dfba21-06c0-4796-9f39-a8c2e597e456"
      },
      "execution_count": 29,
      "outputs": [
        {
          "output_type": "stream",
          "name": "stdout",
          "text": [
            "+--------------------+----+-------+------+----+----------+----------+--------+----------+--------+--------------+------+\n",
            "|                 _id|dofW|carrier|origin|dest|crsdephour|crsdeptime|depdelay|crsarrtime|arrdelay|crselapsedtime|  dist|\n",
            "+--------------------+----+-------+------+----+----------+----------+--------+----------+--------+--------------+------+\n",
            "|WN_2017-03-01_ATL...|   3|     WN|   ATL| BOS|         9|     930.0|     0.0|    1155.0|     0.0|         145.0| 946.0|\n",
            "|WN_2017-03-01_ATL...|   3|     WN|   ATL| BOS|        19|    1935.0|   243.0|    2215.0|   210.0|         160.0| 946.0|\n",
            "|WN_2017-03-01_ATL...|   3|     WN|   ATL| BOS|        12|    1235.0|    11.0|    1505.0|     0.0|         150.0| 946.0|\n",
            "|WN_2017-03-01_ATL...|   3|     WN|   ATL| DEN|        10|    1035.0|    28.0|    1200.0|    59.0|         205.0|1199.0|\n",
            "|WN_2017-03-01_ATL...|   3|     WN|   ATL| DEN|        13|    1330.0|    16.0|    1450.0|    29.0|         200.0|1199.0|\n",
            "+--------------------+----+-------+------+----+----------+----------+--------+----------+--------+--------------+------+\n",
            "only showing top 5 rows\n",
            "\n"
          ]
        }
      ]
    },
    {
      "cell_type": "markdown",
      "source": [
        "\n",
        "***Drop the _id column, not required for analysis:***"
      ],
      "metadata": {
        "id": "E-vsuqWIGc-u"
      }
    },
    {
      "cell_type": "code",
      "source": [
        "train_df = train_df.drop(\"_id\")\n",
        "test_df = test_df.drop(\"_id\")"
      ],
      "metadata": {
        "id": "IoWvvf8mGiqh"
      },
      "execution_count": 30,
      "outputs": []
    },
    {
      "cell_type": "code",
      "source": [
        "train_df.cache()\n",
        "test_df.cache()"
      ],
      "metadata": {
        "colab": {
          "base_uri": "https://localhost:8080/"
        },
        "id": "x4FVukJBGeYB",
        "outputId": "f49d1ccf-4b5e-4c87-d88a-5d9c353df682"
      },
      "execution_count": 31,
      "outputs": [
        {
          "output_type": "execute_result",
          "data": {
            "text/plain": [
              "DataFrame[dofW: int, carrier: string, origin: string, dest: string, crsdephour: int, crsdeptime: double, depdelay: double, crsarrtime: double, arrdelay: double, crselapsedtime: double, dist: double]"
            ]
          },
          "metadata": {},
          "execution_count": 31
        },
        {
          "output_type": "execute_result",
          "data": {
            "text/plain": [
              "DataFrame[dofW: int, carrier: string, origin: string, dest: string, crsdephour: int, crsdeptime: double, depdelay: double, crsarrtime: double, arrdelay: double, crselapsedtime: double, dist: double]"
            ]
          },
          "metadata": {},
          "execution_count": 31
        }
      ]
    },
    {
      "cell_type": "markdown",
      "source": [
        "**Summary Statistics**\n",
        "Spark DataFrames include some built-in functions for statistical processing. The describe() function performs summary statistics calculations on all numeric columns and returns them as a DataFrame."
      ],
      "metadata": {
        "id": "J8Zewr0NGvDn"
      }
    },
    {
      "cell_type": "code",
      "source": [
        "train_df.describe([\"dist\", \"crselapsedtime\", \"depdelay\", \"arrdelay\"]).show()"
      ],
      "metadata": {
        "colab": {
          "base_uri": "https://localhost:8080/"
        },
        "id": "sLyhx2ScG2RY",
        "outputId": "72c14e90-7c6a-4856-a384-8c35e3f535b9"
      },
      "execution_count": 32,
      "outputs": [
        {
          "output_type": "stream",
          "name": "stdout",
          "text": [
            "+-------+------------------+------------------+------------------+------------------+\n",
            "|summary|              dist|    crselapsedtime|          depdelay|          arrdelay|\n",
            "+-------+------------------+------------------+------------------+------------------+\n",
            "|  count|             41348|             41348|             41348|             41348|\n",
            "|   mean|1111.0529167069749|186.26264873754474|15.018719164167553|14.806907226468027|\n",
            "| stddev| 568.7941212507543| 68.38149648990039| 44.52963204436135| 44.22370513266647|\n",
            "|    min|             184.0|              64.0|               0.0|               0.0|\n",
            "|    max|            2704.0|             423.0|            1440.0|            1442.0|\n",
            "+-------+------------------+------------------+------------------+------------------+\n",
            "\n"
          ]
        }
      ]
    },
    {
      "cell_type": "markdown",
      "source": [
        "**Data Exploration**\n",
        "<br>We can use Spark SQL to explore the dataset. Here are some example queries using the Spark SQL. We will also replicate the same results that we get using Spark SQL by calling the Spark Dataframe APIs directly.</br>"
      ],
      "metadata": {
        "id": "WwcHDVfxG771"
      }
    },
    {
      "cell_type": "markdown",
      "source": [
        "**4.1 Register Dataset as a Temporary View in order to explore with SQL**"
      ],
      "metadata": {
        "id": "eotNE2G5HQOP"
      }
    },
    {
      "cell_type": "code",
      "source": [
        "train_df.createOrReplaceTempView(\"train_flights\")"
      ],
      "metadata": {
        "id": "lIVvh04IH9bd"
      },
      "execution_count": 33,
      "outputs": []
    },
    {
      "cell_type": "code",
      "source": [
        "import re\n",
        "\n",
        "def strip_margin(text):\n",
        "    nomargin = re.sub('\\n[ \\t]*\\|', ' ', text)\n",
        "    trimmed = re.sub('\\s+', ' ', nomargin)\n",
        "    return trimmed"
      ],
      "metadata": {
        "id": "OqjSXIiuIBbI"
      },
      "execution_count": 34,
      "outputs": []
    },
    {
      "cell_type": "code",
      "source": [
        "print(strip_margin(\n",
        "\"\"\"I was reading a book \"Programming Scala\" and\n",
        "  |noticed that there is stripMargin method in\n",
        "  |RichString class in Scala.\n",
        "  |\n",
        "  |It's damn useful.\"\"\"))"
      ],
      "metadata": {
        "colab": {
          "base_uri": "https://localhost:8080/"
        },
        "id": "DX9n7tcsIG89",
        "outputId": "4c90241d-3599-4146-d918-7460b03ee27f"
      },
      "execution_count": 35,
      "outputs": [
        {
          "output_type": "stream",
          "name": "stdout",
          "text": [
            "I was reading a book \"Programming Scala\" and noticed that there is stripMargin method in RichString class in Scala. It's damn useful.\n"
          ]
        }
      ]
    },
    {
      "cell_type": "markdown",
      "source": [
        "\n",
        "**4.2 Top 5 longest departure delays**"
      ],
      "metadata": {
        "id": "ZWSVqwT2IQXL"
      }
    },
    {
      "cell_type": "code",
      "source": [
        "# Top 5 longest departure delays using SQL\n",
        "sql_result_df = spark.sql(strip_margin(\n",
        "                        \"\"\"SELECT carrier, origin, dest, depdelay, crsdephour, dist, dofW\n",
        "                          |FROM train_flights\n",
        "                          |ORDER BY depdelay DESC LIMIT 5\n",
        "                        \"\"\"))"
      ],
      "metadata": {
        "id": "Qzgqhgo3IUmN"
      },
      "execution_count": 36,
      "outputs": []
    },
    {
      "cell_type": "code",
      "source": [
        "sql_result_df.show()"
      ],
      "metadata": {
        "colab": {
          "base_uri": "https://localhost:8080/"
        },
        "id": "QJrjcyofIX3s",
        "outputId": "16d321fb-54f1-4135-a16a-a393646d6eb6"
      },
      "execution_count": 37,
      "outputs": [
        {
          "output_type": "stream",
          "name": "stdout",
          "text": [
            "+-------+------+----+--------+----------+------+----+\n",
            "|carrier|origin|dest|depdelay|crsdephour|  dist|dofW|\n",
            "+-------+------+----+--------+----------+------+----+\n",
            "|     AA|   SFO| ORD|  1440.0|         8|1846.0|   3|\n",
            "|     DL|   BOS| ATL|  1185.0|        17| 946.0|   6|\n",
            "|     UA|   DEN| EWR|  1138.0|        12|1605.0|   4|\n",
            "|     DL|   ORD| ATL|  1087.0|        19| 606.0|   7|\n",
            "|     UA|   MIA| EWR|  1072.0|        20|1085.0|   1|\n",
            "+-------+------+----+--------+----------+------+----+\n",
            "\n"
          ]
        }
      ]
    },
    {
      "cell_type": "markdown",
      "source": [
        "**4.3 Average Departure Delay by Carrier**"
      ],
      "metadata": {
        "id": "TCXrBnzLIe8a"
      }
    },
    {
      "cell_type": "code",
      "source": [
        "# Average Departure Delay by Carrier using SQL\n",
        "sql_result_df = spark.sql(strip_margin(\n",
        "                        \"\"\"SELECT carrier, avg(depdelay) \n",
        "                          |FROM train_flights \n",
        "                          |GROUP BY carrier\n",
        "                        \"\"\"))\n",
        "sql_result_df.cache()"
      ],
      "metadata": {
        "colab": {
          "base_uri": "https://localhost:8080/"
        },
        "id": "FmGWJKL4Ilte",
        "outputId": "94b35eff-41de-4bc4-8031-9c343e56a638"
      },
      "execution_count": 39,
      "outputs": [
        {
          "output_type": "execute_result",
          "data": {
            "text/plain": [
              "DataFrame[carrier: string, avg(depdelay): double]"
            ]
          },
          "metadata": {},
          "execution_count": 39
        }
      ]
    },
    {
      "cell_type": "code",
      "source": [
        "sql_result_df.show()"
      ],
      "metadata": {
        "colab": {
          "base_uri": "https://localhost:8080/"
        },
        "id": "gyqxAI2AIo6d",
        "outputId": "0609759c-aa34-46a9-cd60-718386558367"
      },
      "execution_count": 40,
      "outputs": [
        {
          "output_type": "stream",
          "name": "stdout",
          "text": [
            "+-------+------------------+\n",
            "|carrier|     avg(depdelay)|\n",
            "+-------+------------------+\n",
            "|     UA|17.477878450696764|\n",
            "|     AA| 10.45768118831622|\n",
            "|     DL|15.316061660865241|\n",
            "|     WN|13.491000418585182|\n",
            "+-------+------------------+\n",
            "\n"
          ]
        }
      ]
    },
    {
      "cell_type": "code",
      "source": [
        "sql_result_df.toPandas().plot(kind='bar', x='carrier');"
      ],
      "metadata": {
        "colab": {
          "base_uri": "https://localhost:8080/",
          "height": 293
        },
        "id": "STXUAV4KIuAk",
        "outputId": "3f4638b8-92e2-4099-bb6b-f0b231d1fa91"
      },
      "execution_count": 41,
      "outputs": [
        {
          "output_type": "display_data",
          "data": {
            "image/png": "[encoded data removed]",
            "text/plain": [
              "<Figure size 432x288 with 1 Axes>"
            ]
          },
          "metadata": {
            "image/png": {
              "width": 383,
              "height": 276
            },
            "needs_background": "light"
          }
        }
      ]
    },
    {
      "cell_type": "code",
      "source": [
        "sql_result_df.unpersist()"
      ],
      "metadata": {
        "colab": {
          "base_uri": "https://localhost:8080/"
        },
        "id": "E0KEYtsgIx5d",
        "outputId": "63b08ffb-b78b-40a2-e3ac-6116dfcb5756"
      },
      "execution_count": 42,
      "outputs": [
        {
          "output_type": "execute_result",
          "data": {
            "text/plain": [
              "DataFrame[carrier: string, avg(depdelay): double]"
            ]
          },
          "metadata": {},
          "execution_count": 42
        }
      ]
    },
    {
      "cell_type": "markdown",
      "source": [
        "**4.4 Count of Departure Delays by Carrier (where delay>40 minutes)**\n",
        "<br>We want to predict flight delays where depdelay > 40 minutes, so let’s explore this data. Below, we see that United Airlines and Delta have the highest count of flight delays for January and February 2017 (the training set).</br>"
      ],
      "metadata": {
        "id": "nyX2hHvBI8Vq"
      }
    },
    {
      "cell_type": "code",
      "source": [
        "# Count of Departure Delays by Carrier (where delay=40 minutes) using SQL\n",
        "sql_result_df = spark.sql(strip_margin(\n",
        "                        \"\"\"SELECT carrier, count(depdelay) \n",
        "                          |FROM train_flights \n",
        "                          |WHERE depdelay > 40 \n",
        "                          |GROUP BY carrier\n",
        "                        \"\"\"))\n",
        "\n",
        "sql_result_df.cache()"
      ],
      "metadata": {
        "colab": {
          "base_uri": "https://localhost:8080/"
        },
        "id": "63issFvRJIAD",
        "outputId": "54b839b7-03ee-4095-9640-e0967728dfe3"
      },
      "execution_count": 44,
      "outputs": [
        {
          "output_type": "execute_result",
          "data": {
            "text/plain": [
              "DataFrame[carrier: string, count(depdelay): bigint]"
            ]
          },
          "metadata": {},
          "execution_count": 44
        }
      ]
    },
    {
      "cell_type": "code",
      "source": [
        "sql_result_df.show()"
      ],
      "metadata": {
        "colab": {
          "base_uri": "https://localhost:8080/"
        },
        "id": "TAcZnzmDJPm8",
        "outputId": "89e96122-6c73-4d3e-905a-313ea5afa0cb"
      },
      "execution_count": 45,
      "outputs": [
        {
          "output_type": "stream",
          "name": "stdout",
          "text": [
            "+-------+---------------+\n",
            "|carrier|count(depdelay)|\n",
            "+-------+---------------+\n",
            "|     UA|           2420|\n",
            "|     AA|            757|\n",
            "|     DL|           1043|\n",
            "|     WN|            244|\n",
            "+-------+---------------+\n",
            "\n"
          ]
        }
      ]
    },
    {
      "cell_type": "code",
      "source": [
        "sql_result_df.toPandas().plot(kind='bar', x='carrier');"
      ],
      "metadata": {
        "colab": {
          "base_uri": "https://localhost:8080/",
          "height": 293
        },
        "id": "FOk164CGJSqa",
        "outputId": "8a50d9c1-3817-4c43-f9d2-22d4c93adcd8"
      },
      "execution_count": 46,
      "outputs": [
        {
          "output_type": "display_data",
          "data": {
            "image/png": "[encoded data removed]",
            "text/plain": [
              "<Figure size 432x288 with 1 Axes>"
            ]
          },
          "metadata": {
            "image/png": {
              "width": 386,
              "height": 276
            },
            "needs_background": "light"
          }
        }
      ]
    },
    {
      "cell_type": "code",
      "source": [
        "sql_result_df.unpersist()"
      ],
      "metadata": {
        "colab": {
          "base_uri": "https://localhost:8080/"
        },
        "id": "sUryvKzDJVnw",
        "outputId": "63d1cb41-e087-413d-ef63-42289306c0e6"
      },
      "execution_count": 47,
      "outputs": [
        {
          "output_type": "execute_result",
          "data": {
            "text/plain": [
              "DataFrame[carrier: string, count(depdelay): bigint]"
            ]
          },
          "metadata": {},
          "execution_count": 47
        }
      ]
    },
    {
      "cell_type": "markdown",
      "source": [
        "**4.5 Count of Departure Delays by Day of the Week (1=Monday, 7=Sunday)**\n",
        "<br>In the query below, we see that Monday, Tuesday and Sunday have the highest count of flight delays.</br>"
      ],
      "metadata": {
        "id": "3HToRgEsJbzn"
      }
    },
    {
      "cell_type": "code",
      "source": [
        "### Count of Departure Delays by Day of the Week (where delay=40 minutes) using SQL\n",
        "sql_result_df = spark.sql(strip_margin(\n",
        "                        \"\"\"SELECT dofW, count(depdelay) \n",
        "                          |FROM train_flights \n",
        "                          |WHERE depdelay > 40 \n",
        "                          |GROUP BY dofW \n",
        "                          |ORDER BY dofW\n",
        "                        \"\"\"))\n",
        "\n",
        "sql_result_df.cache()"
      ],
      "metadata": {
        "colab": {
          "base_uri": "https://localhost:8080/"
        },
        "id": "r8kkrJ_VJkoc",
        "outputId": "42a94214-7cdf-4f7c-b604-e564d097e024"
      },
      "execution_count": 49,
      "outputs": [
        {
          "output_type": "execute_result",
          "data": {
            "text/plain": [
              "DataFrame[dofW: int, count(depdelay): bigint]"
            ]
          },
          "metadata": {},
          "execution_count": 49
        }
      ]
    },
    {
      "cell_type": "code",
      "source": [
        "sql_result_df.show()"
      ],
      "metadata": {
        "colab": {
          "base_uri": "https://localhost:8080/"
        },
        "id": "egyr1riPJoiP",
        "outputId": "7140e284-534c-40ef-c847-193c15415d86"
      },
      "execution_count": 50,
      "outputs": [
        {
          "output_type": "stream",
          "name": "stdout",
          "text": [
            "+----+---------------+\n",
            "|dofW|count(depdelay)|\n",
            "+----+---------------+\n",
            "|   1|            940|\n",
            "|   2|            712|\n",
            "|   3|            482|\n",
            "|   4|            626|\n",
            "|   5|            579|\n",
            "|   6|            424|\n",
            "|   7|            701|\n",
            "+----+---------------+\n",
            "\n"
          ]
        }
      ]
    },
    {
      "cell_type": "code",
      "source": [
        "sql_result_df.toPandas().plot(kind='bar', x='dofW');"
      ],
      "metadata": {
        "colab": {
          "base_uri": "https://localhost:8080/",
          "height": 281
        },
        "id": "393PERWEJsq0",
        "outputId": "79c25706-a922-4a4e-950e-b0823eb5740e"
      },
      "execution_count": 51,
      "outputs": [
        {
          "output_type": "display_data",
          "data": {
            "image/png": "[encoded data removed]",
            "text/plain": [
              "<Figure size 432x288 with 1 Axes>"
            ]
          },
          "metadata": {
            "image/png": {
              "width": 379,
              "height": 264
            },
            "needs_background": "light"
          }
        }
      ]
    },
    {
      "cell_type": "markdown",
      "source": [
        "However, we can see that the days are marked as 1, 2, ... ,7 and not Monday, Tuesday, ... ,Sunday. We can develop a UserDefined function to get the custom labels. UDF (User defined functions) and UDAF (User defined aggregate functions) are key components of big data languages such as Pig and Hive. They allow to extend the language constructs to do adhoc processing on distributed dataset. This can be also applied to Spark."
      ],
      "metadata": {
        "id": "ZNZZjJhjJ0Vl"
      }
    },
    {
      "cell_type": "markdown",
      "source": [
        "**4.5.1 Create a new weekday column Using a UDF with DataFrame:**"
      ],
      "metadata": {
        "id": "WYV7Pw9OJ4AS"
      }
    },
    {
      "cell_type": "code",
      "source": [
        "# Map from weekday number to actual weekday string\n",
        "weekday = {1:\"Monday\", 2:\"Tuesday\", 3:\"Wednesday\",  4:\"Thursday\", 5:\"Friday\", 6:\"Saturday\", 7:\"Sunday\"}"
      ],
      "metadata": {
        "id": "imkOfnw_J_-P"
      },
      "execution_count": 52,
      "outputs": []
    },
    {
      "cell_type": "code",
      "source": [
        "# Define a udf\n",
        "udfdofwToweekday = udf(lambda x: weekday[x], StringType())"
      ],
      "metadata": {
        "id": "Lb0_FYRpKCHS"
      },
      "execution_count": 53,
      "outputs": []
    },
    {
      "cell_type": "code",
      "source": [
        "# Instead of a lambda function as in the above cell we could have also defined as a function and registered that as a udf\n",
        "# def dofwToweekday(x):\n",
        "#    return weekday[x]\n",
        "# udfdofwToweekday = udf(dofwToweekday, StringType())"
      ],
      "metadata": {
        "id": "IkwigKf1KJc6"
      },
      "execution_count": 54,
      "outputs": []
    },
    {
      "cell_type": "code",
      "source": [
        "# Create a new column appying the udf\n",
        "sql_result_df = sql_result_df.withColumn(\"weekday\", udfdofwToweekday(\"dofW\"))\n",
        "sql_result_df.cache()"
      ],
      "metadata": {
        "colab": {
          "base_uri": "https://localhost:8080/"
        },
        "id": "sdSkfpIfKMQa",
        "outputId": "80cc0489-1999-4a64-dc7f-b2f5fd396623"
      },
      "execution_count": 55,
      "outputs": [
        {
          "output_type": "execute_result",
          "data": {
            "text/plain": [
              "DataFrame[dofW: int, count(depdelay): bigint, weekday: string]"
            ]
          },
          "metadata": {},
          "execution_count": 55
        }
      ]
    },
    {
      "cell_type": "code",
      "source": [
        "sql_result_df.show()"
      ],
      "metadata": {
        "colab": {
          "base_uri": "https://localhost:8080/"
        },
        "id": "wm0GzZqxKPwP",
        "outputId": "7688b06d-9a98-480c-8af6-bafc2852df20"
      },
      "execution_count": 56,
      "outputs": [
        {
          "output_type": "stream",
          "name": "stdout",
          "text": [
            "+----+---------------+---------+\n",
            "|dofW|count(depdelay)|  weekday|\n",
            "+----+---------------+---------+\n",
            "|   1|            940|   Monday|\n",
            "|   2|            712|  Tuesday|\n",
            "|   3|            482|Wednesday|\n",
            "|   4|            626| Thursday|\n",
            "|   5|            579|   Friday|\n",
            "|   6|            424| Saturday|\n",
            "|   7|            701|   Sunday|\n",
            "+----+---------------+---------+\n",
            "\n"
          ]
        }
      ]
    },
    {
      "cell_type": "markdown",
      "source": [
        "In the below post we now we can see that days are marked by their respective string names."
      ],
      "metadata": {
        "id": "v9B__BSjKU6e"
      }
    },
    {
      "cell_type": "code",
      "source": [
        "sql_result_df.toPandas()[['weekday', 'count(depdelay)']].plot(kind='bar', x='weekday');"
      ],
      "metadata": {
        "colab": {
          "base_uri": "https://localhost:8080/",
          "height": 338
        },
        "id": "zlSfxtO3KVrg",
        "outputId": "d81bc909-945c-4621-b06b-e188b3942ae6"
      },
      "execution_count": 57,
      "outputs": [
        {
          "output_type": "display_data",
          "data": {
            "image/png": "[encoded data removed]",
            "text/plain": [
              "<Figure size 432x288 with 1 Axes>"
            ]
          },
          "metadata": {
            "image/png": {
              "width": 379,
              "height": 321
            },
            "needs_background": "light"
          }
        }
      ]
    },
    {
      "cell_type": "code",
      "source": [
        "sql_result_df.unpersist()"
      ],
      "metadata": {
        "colab": {
          "base_uri": "https://localhost:8080/"
        },
        "id": "chaAn8bKKZeE",
        "outputId": "0a1692af-0dac-4dc9-c6c5-b1d96eb2df04"
      },
      "execution_count": 58,
      "outputs": [
        {
          "output_type": "execute_result",
          "data": {
            "text/plain": [
              "DataFrame[dofW: int, count(depdelay): bigint, weekday: string]"
            ]
          },
          "metadata": {},
          "execution_count": 58
        }
      ]
    },
    {
      "cell_type": "markdown",
      "source": [
        "**4.6 Count of Departure Delays by Hour of Day**\n",
        "<br> In the query below, we see that the hours between 13:00-19:00 have the highest count of flight delays.</br>"
      ],
      "metadata": {
        "id": "sBH2Qj-CLuci"
      }
    },
    {
      "cell_type": "code",
      "source": [
        "# Count of Departure Delays by Hour of Day using SQL\n",
        "sql_result_df = spark.sql(strip_margin(\n",
        "                        \"\"\"SELECT crsdephour, count(depdelay) as total \n",
        "                          |FROM train_flights \n",
        "                          |WHERE depdelay > 40 \n",
        "                          |GROUP BY crsdephour \n",
        "                          |ORDER BY crsdephour\n",
        "                        \"\"\"))\n",
        "\n",
        "sql_result_df.cache()"
      ],
      "metadata": {
        "colab": {
          "base_uri": "https://localhost:8080/"
        },
        "id": "d1Yen4jIL2Xd",
        "outputId": "a7e739eb-6ce8-4e8b-9904-950a7a8d7926"
      },
      "execution_count": 64,
      "outputs": [
        {
          "output_type": "execute_result",
          "data": {
            "text/plain": [
              "DataFrame[crsdephour: int, total: bigint]"
            ]
          },
          "metadata": {},
          "execution_count": 64
        }
      ]
    },
    {
      "cell_type": "code",
      "source": [
        "sql_result_df.show(10)"
      ],
      "metadata": {
        "colab": {
          "base_uri": "https://localhost:8080/"
        },
        "id": "7XYmlSwNL5Z9",
        "outputId": "69f866b6-1cef-49ee-ff69-7da28133478a"
      },
      "execution_count": 65,
      "outputs": [
        {
          "output_type": "stream",
          "name": "stdout",
          "text": [
            "+----------+-----+\n",
            "|crsdephour|total|\n",
            "+----------+-----+\n",
            "|         0|    9|\n",
            "|         1|    1|\n",
            "|         5|   15|\n",
            "|         6|   68|\n",
            "|         7|  112|\n",
            "|         8|  190|\n",
            "|         9|  175|\n",
            "|        10|  284|\n",
            "|        11|  280|\n",
            "|        12|  227|\n",
            "+----------+-----+\n",
            "only showing top 10 rows\n",
            "\n"
          ]
        }
      ]
    },
    {
      "cell_type": "code",
      "source": [
        "sql_result_df.toPandas().plot(kind='bar', x='crsdephour');"
      ],
      "metadata": {
        "colab": {
          "base_uri": "https://localhost:8080/",
          "height": 288
        },
        "id": "ZCMs4YTIL9d3",
        "outputId": "75b40df0-d636-4e77-f46d-a36061f9a934"
      },
      "execution_count": 66,
      "outputs": [
        {
          "output_type": "display_data",
          "data": {
            "image/png": "[encoded data removed]",
            "text/plain": [
              "<Figure size 432x288 with 1 Axes>"
            ]
          },
          "metadata": {
            "image/png": {
              "width": 379,
              "height": 271
            },
            "needs_background": "light"
          }
        }
      ]
    },
    {
      "cell_type": "code",
      "source": [
        "sql_result_df.unpersist()"
      ],
      "metadata": {
        "colab": {
          "base_uri": "https://localhost:8080/"
        },
        "id": "695PhpDTMA_Z",
        "outputId": "df8d6521-a2c8-435a-803e-bdb54e517fc5"
      },
      "execution_count": 67,
      "outputs": [
        {
          "output_type": "execute_result",
          "data": {
            "text/plain": [
              "DataFrame[crsdephour: int, total: bigint]"
            ]
          },
          "metadata": {},
          "execution_count": 67
        }
      ]
    },
    {
      "cell_type": "markdown",
      "source": [
        "**4.7 Count of Departure Delays by Origin**\n",
        "<br> In the query below, we see that the origin airports Chicago and Atlanta have the highest count of flight delays.</br>"
      ],
      "metadata": {
        "id": "2W5zu70LMKOS"
      }
    },
    {
      "cell_type": "code",
      "source": [
        "# Count of Departure Delays by Origin using SQL\n",
        "sql_result_df = spark.sql(strip_margin(\n",
        "                        \"\"\"SELECT origin, count(depdelay) as total \n",
        "                          |FROM train_flights \n",
        "                          |WHERE depdelay > 40 \n",
        "                          |GROUP BY origin \n",
        "                          |ORDER BY total desc\n",
        "                        \"\"\"))\n",
        "\n",
        "sql_result_df.cache()"
      ],
      "metadata": {
        "colab": {
          "base_uri": "https://localhost:8080/"
        },
        "id": "lo5ajcWeMYJJ",
        "outputId": "ef6c2d29-2a2a-443b-cf53-bf473d0c9b95"
      },
      "execution_count": 69,
      "outputs": [
        {
          "output_type": "execute_result",
          "data": {
            "text/plain": [
              "DataFrame[origin: string, total: bigint]"
            ]
          },
          "metadata": {},
          "execution_count": 69
        }
      ]
    },
    {
      "cell_type": "code",
      "source": [
        "sql_result_df.show()"
      ],
      "metadata": {
        "colab": {
          "base_uri": "https://localhost:8080/"
        },
        "id": "ZHSikt0lMafs",
        "outputId": "180d51c4-f54e-4734-f5c9-9dfcbc79e0ff"
      },
      "execution_count": 70,
      "outputs": [
        {
          "output_type": "stream",
          "name": "stdout",
          "text": [
            "+------+-----+\n",
            "|origin|total|\n",
            "+------+-----+\n",
            "|   ORD|  679|\n",
            "|   ATL|  637|\n",
            "|   SFO|  542|\n",
            "|   EWR|  518|\n",
            "|   DEN|  484|\n",
            "|   IAH|  447|\n",
            "|   LGA|  432|\n",
            "|   MIA|  429|\n",
            "|   BOS|  296|\n",
            "+------+-----+\n",
            "\n"
          ]
        }
      ]
    },
    {
      "cell_type": "code",
      "source": [
        "sql_result_df.toPandas().plot(kind='bar', x='origin');"
      ],
      "metadata": {
        "colab": {
          "base_uri": "https://localhost:8080/",
          "height": 299
        },
        "id": "x4OvZ-fWMe2m",
        "outputId": "36e67a90-76dc-4ad1-884a-63fac73253d6"
      },
      "execution_count": 71,
      "outputs": [
        {
          "output_type": "display_data",
          "data": {
            "image/png": "[encoded data removed]",
            "text/plain": [
              "<Figure size 432x288 with 1 Axes>"
            ]
          },
          "metadata": {
            "image/png": {
              "width": 379,
              "height": 282
            },
            "needs_background": "light"
          }
        }
      ]
    },
    {
      "cell_type": "code",
      "source": [
        "sql_result_df.unpersist()"
      ],
      "metadata": {
        "colab": {
          "base_uri": "https://localhost:8080/"
        },
        "id": "E1TNQymoMjVc",
        "outputId": "13fa0fe4-b3da-4840-b5f9-e02a7122f174"
      },
      "execution_count": 72,
      "outputs": [
        {
          "output_type": "execute_result",
          "data": {
            "text/plain": [
              "DataFrame[origin: string, total: bigint]"
            ]
          },
          "metadata": {},
          "execution_count": 72
        }
      ]
    },
    {
      "cell_type": "markdown",
      "source": [
        "**Count of Departure Delays by Destination**\n",
        "<br>In the query below, we see that the destination airports San Francisco and Newyork have the highest count of flight delays.</br>"
      ],
      "metadata": {
        "id": "pz5Pr8DvM1WQ"
      }
    },
    {
      "cell_type": "code",
      "source": [
        "# Count of Departure Delays by Destination using SQL\n",
        "sql_result_df = spark.sql(strip_margin(\n",
        "                        \"\"\"SELECT dest, count(depdelay) as total \n",
        "                          |FROM train_flights \n",
        "                          |WHERE depdelay > 40 \n",
        "                          |GROUP BY dest \n",
        "                          |ORDER BY total desc\n",
        "                        \"\"\"))\n",
        "\n",
        "sql_result_df.cache()"
      ],
      "metadata": {
        "colab": {
          "base_uri": "https://localhost:8080/"
        },
        "id": "0e_RF9yoNexR",
        "outputId": "8bab07b7-4271-4f72-edbd-d60d17834560"
      },
      "execution_count": 74,
      "outputs": [
        {
          "output_type": "execute_result",
          "data": {
            "text/plain": [
              "DataFrame[dest: string, total: bigint]"
            ]
          },
          "metadata": {},
          "execution_count": 74
        }
      ]
    },
    {
      "cell_type": "code",
      "source": [
        "sql_result_df.show()"
      ],
      "metadata": {
        "colab": {
          "base_uri": "https://localhost:8080/"
        },
        "id": "FjICPuXJNiJ6",
        "outputId": "f52002b1-1e2f-4070-9e60-8eb190e01ce5"
      },
      "execution_count": 75,
      "outputs": [
        {
          "output_type": "stream",
          "name": "stdout",
          "text": [
            "+----+-----+\n",
            "|dest|total|\n",
            "+----+-----+\n",
            "| SFO|  711|\n",
            "| EWR|  620|\n",
            "| ORD|  593|\n",
            "| ATL|  547|\n",
            "| LGA|  535|\n",
            "| DEN|  397|\n",
            "| MIA|  385|\n",
            "| BOS|  343|\n",
            "| IAH|  333|\n",
            "+----+-----+\n",
            "\n"
          ]
        }
      ]
    },
    {
      "cell_type": "code",
      "source": [
        "sql_result_df.toPandas().plot(kind='bar', x='dest');"
      ],
      "metadata": {
        "colab": {
          "base_uri": "https://localhost:8080/",
          "height": 299
        },
        "id": "-swknc5xNmE4",
        "outputId": "d68819b5-de81-412c-8b2e-8c30f66f321d"
      },
      "execution_count": 76,
      "outputs": [
        {
          "output_type": "display_data",
          "data": {
            "image/png": "[encoded data removed]",
            "text/plain": [
              "<Figure size 432x288 with 1 Axes>"
            ]
          },
          "metadata": {
            "image/png": {
              "width": 379,
              "height": 282
            },
            "needs_background": "light"
          }
        }
      ]
    },
    {
      "cell_type": "code",
      "source": [
        "sql_result_df.unpersist()"
      ],
      "metadata": {
        "colab": {
          "base_uri": "https://localhost:8080/"
        },
        "id": "h1Emv8mwNowK",
        "outputId": "feae2e8a-3763-4891-e7ee-810f52cf4bdc"
      },
      "execution_count": 77,
      "outputs": [
        {
          "output_type": "execute_result",
          "data": {
            "text/plain": [
              "DataFrame[dest: string, total: bigint]"
            ]
          },
          "metadata": {},
          "execution_count": 77
        }
      ]
    },
    {
      "cell_type": "markdown",
      "source": [
        "**4.9 Count of Departure Delays by Origin, Destination**\n",
        "<br>In the query below, we see the count of departure delays by Origin and destination. The routes ORD -> SFO and DEN -> SFO have the highest delays, maybe because of weather in January and February. Adding weather to this dataset would give better results, but that is left as an exercise for the reader.</br>"
      ],
      "metadata": {
        "id": "eu9ffANZNube"
      }
    },
    {
      "cell_type": "code",
      "source": [
        "# Count of Departure Delays by Origin, Destination using SQL\n",
        "sql_result_df = spark.sql(strip_margin(\n",
        "                        \"\"\"SELECT origin, dest, count(depdelay) as total \n",
        "                          |FROM train_flights \n",
        "                          |WHERE depdelay > 40 \n",
        "                          |GROUP BY origin, dest \n",
        "                          |ORDER BY count(depdelay) desc\n",
        "                        \"\"\"))\n",
        "\n",
        "sql_result_df.cache()"
      ],
      "metadata": {
        "colab": {
          "base_uri": "https://localhost:8080/"
        },
        "id": "rj5Ff0RlN7eY",
        "outputId": "e362047d-31ef-461b-ac58-34ee0285e90c"
      },
      "execution_count": 79,
      "outputs": [
        {
          "output_type": "execute_result",
          "data": {
            "text/plain": [
              "DataFrame[origin: string, dest: string, total: bigint]"
            ]
          },
          "metadata": {},
          "execution_count": 79
        }
      ]
    },
    {
      "cell_type": "code",
      "source": [
        "sql_result_df.show()"
      ],
      "metadata": {
        "colab": {
          "base_uri": "https://localhost:8080/"
        },
        "id": "4A3DmCJUN9tG",
        "outputId": "8d36a012-3b61-4b56-d05f-33c2c049a28c"
      },
      "execution_count": 80,
      "outputs": [
        {
          "output_type": "stream",
          "name": "stdout",
          "text": [
            "+------+----+-----+\n",
            "|origin|dest|total|\n",
            "+------+----+-----+\n",
            "|   DEN| SFO|  172|\n",
            "|   ORD| SFO|  168|\n",
            "|   ATL| LGA|  155|\n",
            "|   ATL| EWR|  141|\n",
            "|   SFO| DEN|  134|\n",
            "|   LGA| ATL|  130|\n",
            "|   ORD| EWR|  122|\n",
            "|   SFO| ORD|  118|\n",
            "|   EWR| ORD|  115|\n",
            "|   ORD| LGA|  100|\n",
            "|   IAH| SFO|   98|\n",
            "|   IAH| EWR|   94|\n",
            "|   MIA| LGA|   92|\n",
            "|   ORD| ATL|   88|\n",
            "|   LGA| ORD|   88|\n",
            "|   ATL| SFO|   87|\n",
            "|   LGA| MIA|   81|\n",
            "|   SFO| EWR|   79|\n",
            "|   EWR| SFO|   77|\n",
            "|   ORD| DEN|   76|\n",
            "+------+----+-----+\n",
            "only showing top 20 rows\n",
            "\n"
          ]
        }
      ]
    },
    {
      "cell_type": "code",
      "source": [
        "plt.figure(figsize=(18,4))\n",
        "sns.barplot(x=\"origin\", y=\"total\", hue=\"dest\", data=sql_result_df.toPandas());"
      ],
      "metadata": {
        "colab": {
          "base_uri": "https://localhost:8080/",
          "height": 284
        },
        "id": "9tJGTVnTOBs5",
        "outputId": "8aa31d10-6150-4f83-e250-ed239988607b"
      },
      "execution_count": 81,
      "outputs": [
        {
          "output_type": "display_data",
          "data": {
            "image/png": "[encoded data removed]",
            "text/plain": [
              "<Figure size 1296x288 with 1 Axes>"
            ]
          },
          "metadata": {
            "image/png": {
              "width": 1065,
              "height": 267
            },
            "needs_background": "light"
          }
        }
      ]
    },
    {
      "cell_type": "code",
      "source": [
        "sql_result_df.unpersist()"
      ],
      "metadata": {
        "colab": {
          "base_uri": "https://localhost:8080/"
        },
        "id": "PTDbghQhOEcB",
        "outputId": "7c864fc3-98d5-4abf-a2bb-86ec5000016c"
      },
      "execution_count": 82,
      "outputs": [
        {
          "output_type": "execute_result",
          "data": {
            "text/plain": [
              "DataFrame[origin: string, dest: string, total: bigint]"
            ]
          },
          "metadata": {},
          "execution_count": 82
        }
      ]
    },
    {
      "cell_type": "markdown",
      "source": [
        "**4.10 Add labels for Delayed Flights and Count**\n",
        "<br>We can use Spark Bucketizer to split the dataset into delayed and not delayed flights with a delayed 0/1 column. Then, the resulting total counts are displayed. Grouping the data by the delayed field and counting the number of instances in each group shows that there are roughly eight times as many not delayed samples as delayed samples.</br>"
      ],
      "metadata": {
        "id": "sHrys9P6OJfA"
      }
    },
    {
      "cell_type": "code",
      "source": [
        "train_df.show(5)"
      ],
      "metadata": {
        "colab": {
          "base_uri": "https://localhost:8080/"
        },
        "id": "MnD2dp3pORmv",
        "outputId": "cc9ba56b-bbc7-4c1f-dc9d-58d109726af0"
      },
      "execution_count": 84,
      "outputs": [
        {
          "output_type": "stream",
          "name": "stdout",
          "text": [
            "+----+-------+------+----+----------+----------+--------+----------+--------+--------------+------+\n",
            "|dofW|carrier|origin|dest|crsdephour|crsdeptime|depdelay|crsarrtime|arrdelay|crselapsedtime|  dist|\n",
            "+----+-------+------+----+----------+----------+--------+----------+--------+--------------+------+\n",
            "|   7|     AA|   ATL| LGA|        17|    1700.0|     0.0|    1912.0|     0.0|         132.0| 762.0|\n",
            "|   7|     AA|   LGA| ATL|        13|    1343.0|     0.0|    1620.0|     0.0|         157.0| 762.0|\n",
            "|   7|     AA|   MIA| ATL|         9|     939.0|     0.0|    1137.0|    10.0|         118.0| 594.0|\n",
            "|   7|     AA|   ORD| MIA|        20|    2020.0|     0.0|      26.0|     0.0|         186.0|1197.0|\n",
            "|   7|     AA|   LGA| MIA|         7|     700.0|     0.0|    1017.0|     0.0|         197.0|1096.0|\n",
            "+----+-------+------+----+----------+----------+--------+----------+--------+--------------+------+\n",
            "only showing top 5 rows\n",
            "\n"
          ]
        }
      ]
    },
    {
      "cell_type": "code",
      "source": [
        "# User Bucketizer to split the data into custom buckets\n",
        "bucketizer = Bucketizer(splits=[0.0, 40.0, float(\"inf\")], inputCol=\"depdelay\", outputCol=\"delayed\")"
      ],
      "metadata": {
        "id": "tGhAGy4jOU1l"
      },
      "execution_count": 85,
      "outputs": []
    },
    {
      "cell_type": "code",
      "source": [
        "train_df = bucketizer.transform(train_df).cache()"
      ],
      "metadata": {
        "id": "k4UuXttFOXHB"
      },
      "execution_count": 86,
      "outputs": []
    },
    {
      "cell_type": "code",
      "source": [
        "train_df.groupBy(\"delayed\").count().show()"
      ],
      "metadata": {
        "colab": {
          "base_uri": "https://localhost:8080/"
        },
        "id": "YdmIBmBtOZSe",
        "outputId": "0a0f1571-4957-4de1-b589-2d7081e992cd"
      },
      "execution_count": 87,
      "outputs": [
        {
          "output_type": "stream",
          "name": "stdout",
          "text": [
            "+-------+-----+\n",
            "|delayed|count|\n",
            "+-------+-----+\n",
            "|    0.0|36790|\n",
            "|    1.0| 4558|\n",
            "+-------+-----+\n",
            "\n"
          ]
        }
      ]
    },
    {
      "cell_type": "code",
      "source": [
        "train_df.select([\"dofW\", \"carrier\", \"origin\", \"dest\", \"depdelay\", \"delayed\"]).sample(fraction=0.01, withReplacement=False, seed=rnd_seed).show()"
      ],
      "metadata": {
        "colab": {
          "base_uri": "https://localhost:8080/"
        },
        "id": "LktfgjyZOcdQ",
        "outputId": "e5f1e2b6-03f4-4514-e09d-3a90d061b0f4"
      },
      "execution_count": 88,
      "outputs": [
        {
          "output_type": "stream",
          "name": "stdout",
          "text": [
            "+----+-------+------+----+--------+-------+\n",
            "|dofW|carrier|origin|dest|depdelay|delayed|\n",
            "+----+-------+------+----+--------+-------+\n",
            "|   7|     DL|   MIA| ATL|     0.0|    0.0|\n",
            "|   7|     UA|   DEN| SFO|     2.0|    0.0|\n",
            "|   7|     UA|   IAH| DEN|     1.0|    0.0|\n",
            "|   7|     UA|   IAH| DEN|     0.0|    0.0|\n",
            "|   7|     UA|   DEN| SFO|     1.0|    0.0|\n",
            "|   1|     AA|   ORD| SFO|    62.0|    1.0|\n",
            "|   1|     UA|   EWR| DEN|    11.0|    0.0|\n",
            "|   1|     UA|   DEN| ORD|     0.0|    0.0|\n",
            "|   1|     UA|   ORD| LGA|    30.0|    0.0|\n",
            "|   1|     UA|   DEN| SFO|    26.0|    0.0|\n",
            "|   2|     UA|   ATL| EWR|     5.0|    0.0|\n",
            "|   2|     UA|   ORD| SFO|     0.0|    0.0|\n",
            "|   2|     UA|   BOS| DEN|     0.0|    0.0|\n",
            "|   2|     UA|   SFO| ORD|     0.0|    0.0|\n",
            "|   2|     UA|   EWR| ORD|    31.0|    0.0|\n",
            "|   2|     AA|   SFO| MIA|    56.0|    1.0|\n",
            "|   2|     AA|   LGA| MIA|     0.0|    0.0|\n",
            "|   2|     AA|   ATL| ORD|     0.0|    0.0|\n",
            "|   2|     WN|   ATL| LGA|    12.0|    0.0|\n",
            "|   2|     AA|   BOS| MIA|     0.0|    0.0|\n",
            "+----+-------+------+----+--------+-------+\n",
            "only showing top 20 rows\n",
            "\n"
          ]
        }
      ]
    },
    {
      "cell_type": "markdown",
      "source": [
        "**4.11 Create a stacked bar plot of count of departure delays by Origin**\n",
        "<br>In the query below, we see the count of not delayed (0=dark blue) and delayed (1=light blue) flights by origin.</br>"
      ],
      "metadata": {
        "id": "-8cq1MCrOfqC"
      }
    },
    {
      "cell_type": "code",
      "source": [
        "# Count of Departure Delays by Origin\n",
        "result_df = (train_df\n",
        "                .select([\"origin\", \"delayed\"])\n",
        "                .groupBy([\"origin\", \"delayed\"])\n",
        "                .count()\n",
        "                .orderBy([\"delayed\"]))\n",
        "result_df.cache()"
      ],
      "metadata": {
        "colab": {
          "base_uri": "https://localhost:8080/"
        },
        "id": "2-7RmmOHOnTY",
        "outputId": "ec8d57d3-c9cf-4c92-c964-75517fb2b989"
      },
      "execution_count": 89,
      "outputs": [
        {
          "output_type": "execute_result",
          "data": {
            "text/plain": [
              "DataFrame[origin: string, delayed: double, count: bigint]"
            ]
          },
          "metadata": {},
          "execution_count": 89
        }
      ]
    },
    {
      "cell_type": "code",
      "source": [
        "result_df.show(15)"
      ],
      "metadata": {
        "colab": {
          "base_uri": "https://localhost:8080/"
        },
        "id": "2zjDJolfOqT9",
        "outputId": "65cd5b22-3d60-419a-d047-ec94cad493ff"
      },
      "execution_count": 90,
      "outputs": [
        {
          "output_type": "stream",
          "name": "stdout",
          "text": [
            "+------+-------+-----+\n",
            "|origin|delayed|count|\n",
            "+------+-------+-----+\n",
            "|   DEN|    0.0| 3773|\n",
            "|   BOS|    0.0| 3388|\n",
            "|   LGA|    0.0| 4550|\n",
            "|   EWR|    0.0| 3693|\n",
            "|   MIA|    0.0| 3991|\n",
            "|   IAH|    0.0| 3218|\n",
            "|   ORD|    0.0| 5607|\n",
            "|   ATL|    0.0| 5322|\n",
            "|   SFO|    0.0| 3248|\n",
            "|   LGA|    1.0|  442|\n",
            "|   MIA|    1.0|  434|\n",
            "|   IAH|    1.0|  455|\n",
            "|   EWR|    1.0|  526|\n",
            "|   ORD|    1.0|  693|\n",
            "|   SFO|    1.0|  557|\n",
            "+------+-------+-----+\n",
            "only showing top 15 rows\n",
            "\n"
          ]
        }
      ]
    },
    {
      "cell_type": "markdown",
      "source": [
        "**4.11.1 Leverage Panda's pivot method to do a stacked bar plot:**"
      ],
      "metadata": {
        "id": "lvxAqmZnOvrW"
      }
    },
    {
      "cell_type": "code",
      "source": [
        "pdf = result_df.toPandas()"
      ],
      "metadata": {
        "id": "Z_NF7j95O0Qb"
      },
      "execution_count": 91,
      "outputs": []
    },
    {
      "cell_type": "code",
      "source": [
        "print(pdf.head(15))"
      ],
      "metadata": {
        "colab": {
          "base_uri": "https://localhost:8080/"
        },
        "id": "l0lDKu3_O2ug",
        "outputId": "aa818313-68db-4c75-e318-ddede3d82877"
      },
      "execution_count": 92,
      "outputs": [
        {
          "output_type": "stream",
          "name": "stdout",
          "text": [
            "   origin  delayed  count\n",
            "0     DEN      0.0   3773\n",
            "1     BOS      0.0   3388\n",
            "2     LGA      0.0   4550\n",
            "3     EWR      0.0   3693\n",
            "4     MIA      0.0   3991\n",
            "5     IAH      0.0   3218\n",
            "6     ORD      0.0   5607\n",
            "7     ATL      0.0   5322\n",
            "8     SFO      0.0   3248\n",
            "9     LGA      1.0    442\n",
            "10    MIA      1.0    434\n",
            "11    IAH      1.0    455\n",
            "12    EWR      1.0    526\n",
            "13    ORD      1.0    693\n",
            "14    SFO      1.0    557\n"
          ]
        }
      ]
    },
    {
      "cell_type": "code",
      "source": [
        "pdf = pdf.pivot(index='origin', columns='delayed', values='count').sort_index()"
      ],
      "metadata": {
        "id": "M_SBwTiZO5LR"
      },
      "execution_count": 93,
      "outputs": []
    },
    {
      "cell_type": "code",
      "source": [
        "print(pdf.head(15))"
      ],
      "metadata": {
        "colab": {
          "base_uri": "https://localhost:8080/"
        },
        "id": "QBaGqqgQO8Eu",
        "outputId": "dc612a43-0018-4c8b-d4a2-045cc46c57f8"
      },
      "execution_count": 94,
      "outputs": [
        {
          "output_type": "stream",
          "name": "stdout",
          "text": [
            "delayed   0.0  1.0\n",
            "origin            \n",
            "ATL      5322  649\n",
            "BOS      3388  306\n",
            "DEN      3773  496\n",
            "EWR      3693  526\n",
            "IAH      3218  455\n",
            "LGA      4550  442\n",
            "MIA      3991  434\n",
            "ORD      5607  693\n",
            "SFO      3248  557\n"
          ]
        }
      ]
    },
    {
      "cell_type": "code",
      "source": [
        "pdf.plot.bar(stacked=True);"
      ],
      "metadata": {
        "colab": {
          "base_uri": "https://localhost:8080/",
          "height": 299
        },
        "id": "WjgX0sOCO_Sg",
        "outputId": "0f0d7162-d8ec-4572-a60f-be39efd8782e"
      },
      "execution_count": 95,
      "outputs": [
        {
          "output_type": "display_data",
          "data": {
            "image/png": "[encoded data removed]",
            "text/plain": [
              "<Figure size 432x288 with 1 Axes>"
            ]
          },
          "metadata": {
            "image/png": {
              "width": 386,
              "height": 282
            },
            "needs_background": "light"
          }
        }
      ]
    },
    {
      "cell_type": "markdown",
      "source": [
        "**4.11.2 Can we do the same pivot using Spark?**"
      ],
      "metadata": {
        "id": "4L8FOgMfPBiY"
      }
    },
    {
      "cell_type": "code",
      "source": [
        "# careful! we are using train_df and not result_df. Pivot will only work with a Grouped DF is Spark\n",
        "train_df.select([\"origin\", \"delayed\"]).groupBy([\"origin\"]).pivot('delayed').count().orderBy('origin').show(15)"
      ],
      "metadata": {
        "colab": {
          "base_uri": "https://localhost:8080/"
        },
        "id": "GVPfjt3dPJpy",
        "outputId": "77f7c7fd-04a3-4755-9cba-c6ec2a19a928"
      },
      "execution_count": 96,
      "outputs": [
        {
          "output_type": "stream",
          "name": "stdout",
          "text": [
            "+------+----+---+\n",
            "|origin| 0.0|1.0|\n",
            "+------+----+---+\n",
            "|   ATL|5322|649|\n",
            "|   BOS|3388|306|\n",
            "|   DEN|3773|496|\n",
            "|   EWR|3693|526|\n",
            "|   IAH|3218|455|\n",
            "|   LGA|4550|442|\n",
            "|   MIA|3991|434|\n",
            "|   ORD|5607|693|\n",
            "|   SFO|3248|557|\n",
            "+------+----+---+\n",
            "\n"
          ]
        }
      ]
    },
    {
      "cell_type": "markdown",
      "source": [
        "**Voila** The same result as above from pandas dataframe pivot method"
      ],
      "metadata": {
        "id": "nCoIkDQNPOET"
      }
    },
    {
      "cell_type": "code",
      "source": [
        "(train_df.select([\"origin\", \"delayed\"])\n",
        "         .groupBy([\"origin\"]).pivot('delayed').count().orderBy('origin')\n",
        "         .toPandas()\n",
        "         .plot.bar(stacked=True, figsize=(20, 4)));"
      ],
      "metadata": {
        "colab": {
          "base_uri": "https://localhost:8080/",
          "height": 265
        },
        "id": "s4qBfQU9PYFV",
        "outputId": "75231378-da59-4d15-f88f-d8b8269b595e"
      },
      "execution_count": 97,
      "outputs": [
        {
          "output_type": "display_data",
          "data": {
            "image/png": "[encoded data removed]",
            "text/plain": [
              "<Figure size 1440x288 with 1 Axes>"
            ]
          },
          "metadata": {
            "image/png": {
              "width": 1168,
              "height": 248
            },
            "needs_background": "light"
          }
        }
      ]
    },
    {
      "cell_type": "code",
      "source": [
        "train_df.show(10)"
      ],
      "metadata": {
        "colab": {
          "base_uri": "https://localhost:8080/"
        },
        "id": "lxCEIL4dPciV",
        "outputId": "cdded968-f95d-4446-b0d2-18b8aa7bff72"
      },
      "execution_count": 98,
      "outputs": [
        {
          "output_type": "stream",
          "name": "stdout",
          "text": [
            "+----+-------+------+----+----------+----------+--------+----------+--------+--------------+------+-------+\n",
            "|dofW|carrier|origin|dest|crsdephour|crsdeptime|depdelay|crsarrtime|arrdelay|crselapsedtime|  dist|delayed|\n",
            "+----+-------+------+----+----------+----------+--------+----------+--------+--------------+------+-------+\n",
            "|   7|     AA|   ATL| LGA|        17|    1700.0|     0.0|    1912.0|     0.0|         132.0| 762.0|    0.0|\n",
            "|   7|     AA|   LGA| ATL|        13|    1343.0|     0.0|    1620.0|     0.0|         157.0| 762.0|    0.0|\n",
            "|   7|     AA|   MIA| ATL|         9|     939.0|     0.0|    1137.0|    10.0|         118.0| 594.0|    0.0|\n",
            "|   7|     AA|   ORD| MIA|        20|    2020.0|     0.0|      26.0|     0.0|         186.0|1197.0|    0.0|\n",
            "|   7|     AA|   LGA| MIA|         7|     700.0|     0.0|    1017.0|     0.0|         197.0|1096.0|    0.0|\n",
            "|   7|     AA|   ORD| DEN|        13|    1345.0|     0.0|    1527.0|     0.0|         162.0| 888.0|    0.0|\n",
            "|   7|     AA|   DEN| MIA|        11|    1100.0|     0.0|    1649.0|     0.0|         229.0|1709.0|    0.0|\n",
            "|   7|     AA|   MIA| DEN|         7|     720.0|     7.0|     949.0|     0.0|         269.0|1709.0|    0.0|\n",
            "|   7|     AA|   DEN| ORD|        12|    1235.0|     0.0|    1600.0|     0.0|         145.0| 888.0|    0.0|\n",
            "|   7|     AA|   ORD| DEN|        10|    1005.0|     5.0|    1145.0|     3.0|         160.0| 888.0|    0.0|\n",
            "+----+-------+------+----+----------+----------+--------+----------+--------+--------------+------+-------+\n",
            "only showing top 10 rows\n",
            "\n"
          ]
        }
      ]
    },
    {
      "cell_type": "markdown",
      "source": [
        "**4.11.3 Can we do the same using SQL Pivot function in Spark?**\n",
        "<br>**With Spark 2.4.0 SQL equivalent pivot function was introduced.**</br> Now we can achieve the same same with one query instead to DF + SQL combination.\n"
      ],
      "metadata": {
        "id": "7MREWcrRPhHp"
      }
    },
    {
      "cell_type": "code",
      "source": [
        "train_df.createOrReplaceTempView(\"train_df\")"
      ],
      "metadata": {
        "id": "9xVbF1nhQBpt"
      },
      "execution_count": 99,
      "outputs": []
    },
    {
      "cell_type": "code",
      "source": [
        "spark.sql(\"SELECT origin, delayed FROM train_df\").show()"
      ],
      "metadata": {
        "colab": {
          "base_uri": "https://localhost:8080/"
        },
        "id": "Q-bL84WTQTOw",
        "outputId": "abff59ad-b735-4ca5-e4b1-35a70a461079"
      },
      "execution_count": 100,
      "outputs": [
        {
          "output_type": "stream",
          "name": "stdout",
          "text": [
            "+------+-------+\n",
            "|origin|delayed|\n",
            "+------+-------+\n",
            "|   ATL|    0.0|\n",
            "|   LGA|    0.0|\n",
            "|   MIA|    0.0|\n",
            "|   ORD|    0.0|\n",
            "|   LGA|    0.0|\n",
            "|   ORD|    0.0|\n",
            "|   DEN|    0.0|\n",
            "|   MIA|    0.0|\n",
            "|   DEN|    0.0|\n",
            "|   ORD|    0.0|\n",
            "|   IAH|    0.0|\n",
            "|   MIA|    1.0|\n",
            "|   MIA|    0.0|\n",
            "|   DEN|    0.0|\n",
            "|   ORD|    0.0|\n",
            "|   MIA|    1.0|\n",
            "|   MIA|    0.0|\n",
            "|   MIA|    1.0|\n",
            "|   MIA|    0.0|\n",
            "|   MIA|    0.0|\n",
            "+------+-------+\n",
            "only showing top 20 rows\n",
            "\n"
          ]
        }
      ]
    },
    {
      "cell_type": "code",
      "source": [
        "(spark.sql(strip_margin(\n",
        "\"\"\"SELECT * \n",
        "     FROM (SELECT origin, delayed FROM train_df)\n",
        "     PIVOT (\n",
        "        COUNT(1)\n",
        "        FOR delayed IN (0.0, 1.0)\n",
        "     )\n",
        "   ORDER BY origin\n",
        "\"\"\"))).show()"
      ],
      "metadata": {
        "colab": {
          "base_uri": "https://localhost:8080/"
        },
        "id": "p8jCG92EQVeX",
        "outputId": "290342ad-d613-4f10-bfad-ad0a644eca6c"
      },
      "execution_count": 101,
      "outputs": [
        {
          "output_type": "stream",
          "name": "stdout",
          "text": [
            "+------+----+---+\n",
            "|origin| 0.0|1.0|\n",
            "+------+----+---+\n",
            "|   ATL|5322|649|\n",
            "|   BOS|3388|306|\n",
            "|   DEN|3773|496|\n",
            "|   EWR|3693|526|\n",
            "|   IAH|3218|455|\n",
            "|   LGA|4550|442|\n",
            "|   MIA|3991|434|\n",
            "|   ORD|5607|693|\n",
            "|   SFO|3248|557|\n",
            "+------+----+---+\n",
            "\n"
          ]
        }
      ]
    },
    {
      "cell_type": "code",
      "source": [
        "# above query in one line\n",
        "(spark.sql(\n",
        "    \"SELECT * FROM (SELECT origin, delayed FROM train_df) PIVOT (COUNT(1) FOR delayed IN (0.0, 1.0)) ORDER BY origin\"\n",
        ")).show()"
      ],
      "metadata": {
        "colab": {
          "base_uri": "https://localhost:8080/"
        },
        "id": "8RPK50lfQYf_",
        "outputId": "8142891c-9cb2-497b-ef28-951316911d48"
      },
      "execution_count": 102,
      "outputs": [
        {
          "output_type": "stream",
          "name": "stdout",
          "text": [
            "+------+----+---+\n",
            "|origin| 0.0|1.0|\n",
            "+------+----+---+\n",
            "|   ATL|5322|649|\n",
            "|   BOS|3388|306|\n",
            "|   DEN|3773|496|\n",
            "|   EWR|3693|526|\n",
            "|   IAH|3218|455|\n",
            "|   LGA|4550|442|\n",
            "|   MIA|3991|434|\n",
            "|   ORD|5607|693|\n",
            "|   SFO|3248|557|\n",
            "+------+----+---+\n",
            "\n"
          ]
        }
      ]
    },
    {
      "cell_type": "markdown",
      "source": [
        "**4.12 Done with Data Exploration: Cleanup**"
      ],
      "metadata": {
        "id": "1AEQyKKiQbEF"
      }
    },
    {
      "cell_type": "code",
      "source": [
        "# For temporary views you can use Catalog.dropTempView:\n",
        "spark.catalog.dropTempView(\"train_df\")\n",
        "spark.catalog.dropTempView(\"train_flights\")"
      ],
      "metadata": {
        "id": "3Cdsp9RmQ-fB"
      },
      "execution_count": 103,
      "outputs": []
    },
    {
      "cell_type": "markdown",
      "source": [
        "### 5. Stratified Sampling \n",
        "In order to ensure that our model is sensitive to the delayed samples, we can put the two sample types on the same footing using stratified sampling. The DataFrames sampleBy() function does this when provided with fractions of each sample type to be returned. Here, we're keeping all instances of delayed, but downsampling the not delayed instances to 29%, then displaying the results."
      ],
      "metadata": {
        "id": "VIdhURZqRTTz"
      }
    },
    {
      "cell_type": "code",
      "source": [
        "train_df.groupBy(\"delayed\").count().show()"
      ],
      "metadata": {
        "colab": {
          "base_uri": "https://localhost:8080/"
        },
        "id": "_j_lyX9RRao4",
        "outputId": "e4ffc6af-6699-45a7-b4ae-3e66667f5b75"
      },
      "execution_count": 104,
      "outputs": [
        {
          "output_type": "stream",
          "name": "stdout",
          "text": [
            "+-------+-----+\n",
            "|delayed|count|\n",
            "+-------+-----+\n",
            "|    0.0|36790|\n",
            "|    1.0| 4558|\n",
            "+-------+-----+\n",
            "\n"
          ]
        }
      ]
    },
    {
      "cell_type": "code",
      "source": [
        "# count of delayed=0.0\n",
        "count_not_delayed = train_df.groupBy(\"delayed\").count().select([\"count\"]).where(\"delayed = 0.0\").first()[0]"
      ],
      "metadata": {
        "id": "eomcTFxwRro7"
      },
      "execution_count": 105,
      "outputs": []
    },
    {
      "cell_type": "code",
      "source": [
        "# count of delayed=1.0\n",
        "count_delayed = train_df.groupBy(\"delayed\").count().select([\"count\"]).where(\"delayed = 1.0\").first()[0]"
      ],
      "metadata": {
        "id": "RISHC916Rwft"
      },
      "execution_count": 106,
      "outputs": []
    },
    {
      "cell_type": "code",
      "source": [
        "total = train_df.count()"
      ],
      "metadata": {
        "id": "xZJD5FVZRyNS"
      },
      "execution_count": 107,
      "outputs": []
    },
    {
      "cell_type": "code",
      "source": [
        "count_not_delayed, count_delayed, total"
      ],
      "metadata": {
        "colab": {
          "base_uri": "https://localhost:8080/"
        },
        "id": "ou0YcYveR0iy",
        "outputId": "bb37272d-5f0d-43ff-aea1-518ebfc8c3e3"
      },
      "execution_count": 108,
      "outputs": [
        {
          "output_type": "execute_result",
          "data": {
            "text/plain": [
              "(36790, 4558, 41348)"
            ]
          },
          "metadata": {},
          "execution_count": 108
        }
      ]
    },
    {
      "cell_type": "code",
      "source": [
        "print(\"Not Delayed: {0}%, Delayed: {1}%\".format(np.round(100 * count_not_delayed / total, 2), np.round(100 * count_delayed / total, 2)))"
      ],
      "metadata": {
        "colab": {
          "base_uri": "https://localhost:8080/"
        },
        "id": "M4cEqgm2R2Ru",
        "outputId": "a605889b-b803-4295-84f4-4887c835a530"
      },
      "execution_count": 109,
      "outputs": [
        {
          "output_type": "stream",
          "name": "stdout",
          "text": [
            "Not Delayed: 88.98%, Delayed: 11.02%\n"
          ]
        }
      ]
    },
    {
      "cell_type": "code",
      "source": [
        "# specify the exact fraction desired from each key as a dictionary\n",
        "fractions = {0.0: 0.29, 1.0: 1.0}"
      ],
      "metadata": {
        "id": "xJERwb2DSdhP"
      },
      "execution_count": 110,
      "outputs": []
    },
    {
      "cell_type": "code",
      "source": [
        "strat_train_df = train_df.stat.sampleBy('delayed', fractions, seed=rnd_seed)"
      ],
      "metadata": {
        "id": "mT4TayR-SfyC"
      },
      "execution_count": 111,
      "outputs": []
    },
    {
      "cell_type": "code",
      "source": [
        "strat_train_df.groupBy(\"delayed\").count().show()"
      ],
      "metadata": {
        "colab": {
          "base_uri": "https://localhost:8080/"
        },
        "id": "QGWaIfzfSiX0",
        "outputId": "d9e72f7e-82fc-4584-c592-ad593fa1bf44"
      },
      "execution_count": 112,
      "outputs": [
        {
          "output_type": "stream",
          "name": "stdout",
          "text": [
            "+-------+-----+\n",
            "|delayed|count|\n",
            "+-------+-----+\n",
            "|    0.0|10812|\n",
            "|    1.0| 4558|\n",
            "+-------+-----+\n",
            "\n"
          ]
        }
      ]
    },
    {
      "cell_type": "code",
      "source": [
        "# count of delayed=0.0\n",
        "count_not_delayed = strat_train_df.groupBy(\"delayed\").count().select([\"count\"]).where(\"delayed = 0.0\").first()[0]\n",
        "\n",
        "# count of delayed=1.0\n",
        "count_delayed = strat_train_df.groupBy(\"delayed\").count().select([\"count\"]).where(\"delayed = 1.0\").first()[0]\n",
        "\n",
        "total = count_not_delayed + count_delayed"
      ],
      "metadata": {
        "id": "f3Zp1-UXSlDK"
      },
      "execution_count": 113,
      "outputs": []
    },
    {
      "cell_type": "code",
      "source": [
        "print(\"Not Delayed: {0}%, Delayed: {1}%\".format(np.round(100 * count_not_delayed / total, 2), np.round(100 * count_delayed / total, 2)))"
      ],
      "metadata": {
        "colab": {
          "base_uri": "https://localhost:8080/"
        },
        "id": "2CTJx-QeSp_Y",
        "outputId": "8f1018be-6ae2-4ded-f76c-a087668301cd"
      },
      "execution_count": 114,
      "outputs": [
        {
          "output_type": "stream",
          "name": "stdout",
          "text": [
            "Not Delayed: 70.34%, Delayed: 29.66%\n"
          ]
        }
      ]
    },
    {
      "cell_type": "code",
      "source": [
        "strat_train_df.show(5)"
      ],
      "metadata": {
        "colab": {
          "base_uri": "https://localhost:8080/"
        },
        "id": "Z9CBe_gnSsVL",
        "outputId": "f037d8e1-4445-4208-8b3f-b15434c1a94a"
      },
      "execution_count": 115,
      "outputs": [
        {
          "output_type": "stream",
          "name": "stdout",
          "text": [
            "+----+-------+------+----+----------+----------+--------+----------+--------+--------------+------+-------+\n",
            "|dofW|carrier|origin|dest|crsdephour|crsdeptime|depdelay|crsarrtime|arrdelay|crselapsedtime|  dist|delayed|\n",
            "+----+-------+------+----+----------+----------+--------+----------+--------+--------------+------+-------+\n",
            "|   7|     AA|   ORD| DEN|        13|    1345.0|     0.0|    1527.0|     0.0|         162.0| 888.0|    0.0|\n",
            "|   7|     AA|   DEN| ORD|        12|    1235.0|     0.0|    1600.0|     0.0|         145.0| 888.0|    0.0|\n",
            "|   7|     AA|   ORD| DEN|        10|    1005.0|     5.0|    1145.0|     3.0|         160.0| 888.0|    0.0|\n",
            "|   7|     AA|   MIA| IAH|        20|    2045.0|    80.0|    2238.0|    63.0|         173.0| 964.0|    1.0|\n",
            "|   7|     AA|   MIA| LGA|        18|    1756.0|    85.0|    2049.0|    73.0|         173.0|1096.0|    1.0|\n",
            "+----+-------+------+----+----------+----------+--------+----------+--------+--------------+------+-------+\n",
            "only showing top 5 rows\n",
            "\n"
          ]
        }
      ]
    },
    {
      "cell_type": "code",
      "source": [
        "# Done with stratifying, we can drop the column\n",
        "strat_train_df = strat_train_df.drop(\"delayed\")"
      ],
      "metadata": {
        "id": "0zXG6PTZS9I-"
      },
      "execution_count": 116,
      "outputs": []
    },
    {
      "cell_type": "code",
      "source": [
        "strat_train_df.show(5)"
      ],
      "metadata": {
        "colab": {
          "base_uri": "https://localhost:8080/"
        },
        "id": "Hq3D9d1eTAQ_",
        "outputId": "e701b1fd-a0f4-44af-8c0f-94f06bf6ed31"
      },
      "execution_count": 117,
      "outputs": [
        {
          "output_type": "stream",
          "name": "stdout",
          "text": [
            "+----+-------+------+----+----------+----------+--------+----------+--------+--------------+------+\n",
            "|dofW|carrier|origin|dest|crsdephour|crsdeptime|depdelay|crsarrtime|arrdelay|crselapsedtime|  dist|\n",
            "+----+-------+------+----+----------+----------+--------+----------+--------+--------------+------+\n",
            "|   7|     AA|   ORD| DEN|        13|    1345.0|     0.0|    1527.0|     0.0|         162.0| 888.0|\n",
            "|   7|     AA|   DEN| ORD|        12|    1235.0|     0.0|    1600.0|     0.0|         145.0| 888.0|\n",
            "|   7|     AA|   ORD| DEN|        10|    1005.0|     5.0|    1145.0|     3.0|         160.0| 888.0|\n",
            "|   7|     AA|   MIA| IAH|        20|    2045.0|    80.0|    2238.0|    63.0|         173.0| 964.0|\n",
            "|   7|     AA|   MIA| LGA|        18|    1756.0|    85.0|    2049.0|    73.0|         173.0|1096.0|\n",
            "+----+-------+------+----+----------+----------+--------+----------+--------+--------------+------+\n",
            "only showing top 5 rows\n",
            "\n"
          ]
        }
      ]
    },
    {
      "cell_type": "markdown",
      "source": [
        "## 6. Features Array\n",
        "To build a classifier model, we have to extract the features that most contribute to the classification. In this scenario, we will build a tree to predict the label of delayed or not based on the following features:\n",
        "- Label:\n",
        "     - delayed = 0 \n",
        "     - Delayed = 1 if delay > 40 minutes\n",
        "- Features -> {day of the week, scheduled departure time, scheduled arrival time, carrier, scheduled elapsed time, origin, destination, distance}\n",
        "In order for the features to be used by a machine learning algorithm, they must be transformed and put into feature vectors, which are vectors of numbers representing the value for each feature.\n"
      ],
      "metadata": {
        "id": "OkDip73ATDOj"
      }
    },
    {
      "cell_type": "markdown",
      "source": [
        "## Using the Spark ML Package \n",
        "The ML package is the newer library of machine learning routines. Spark ML provides a uniform set of high-level APIs built on top of DataFrames.\n",
        "<br>We will use an ML Pipeline to pass the data through transformers in order to extract the features and an estimator to produce the model.</br>\n",
        "- Transformer: A Transformer is an algorithm which transforms one DataFrame into another DataFrame. We will use a transformer to get a DataFrame with a features vector column.\n",
        "- Estimator: An Estimator is an algorithm which can be fit on a DataFrame to produce a Transformer. We will use a an estimator to train a model which can transform data to get predictions.\n",
        "- Pipeline: A Pipeline chains multiple Transformers and Estimators together to specify a ML workflow."
      ],
      "metadata": {
        "id": "MqixsG3VUM9j"
      }
    },
    {
      "cell_type": "markdown",
      "source": [
        "## Feature Extraction and Pipelining\n",
        "<br> The ML package needs the label and feature vector to be added as columns to the input dataframe. We set up a pipeline to pass the data through transformers in order to extract the features and label. We use a StringIndexer to encode a string columns to a column of number indices. We use a OneHotEncoder to map a number indices column to a column of binary vectors, with at most a single one-value. Encoding categorical features allows decision trees to treat categorical features appropriately, improving performance. "
      ],
      "metadata": {
        "id": "OlQQAhj_U2E4"
      }
    },
    {
      "cell_type": "markdown",
      "source": [
        "**6.1 Use a combination of StringIndexer and OneHotEncoder to encode Categorical columns**\n",
        "<br>Experiment: Let's StringIndex the \"carrier\" column</br>"
      ],
      "metadata": {
        "id": "z6ow-AZIVNv-"
      }
    },
    {
      "cell_type": "code",
      "source": [
        "colName = \"carrier\""
      ],
      "metadata": {
        "id": "o8UENHElVgro"
      },
      "execution_count": 118,
      "outputs": []
    },
    {
      "cell_type": "code",
      "source": [
        "carrierIndexer = StringIndexer(inputCol=colName, outputCol=\"{0}_indexed\".format(colName)).fit(strat_train_df)"
      ],
      "metadata": {
        "id": "wqKY3V2mVjZ8"
      },
      "execution_count": 119,
      "outputs": []
    },
    {
      "cell_type": "code",
      "source": [
        "indexed_df = carrierIndexer.transform(strat_train_df)"
      ],
      "metadata": {
        "id": "tXLDRO6dVmZz"
      },
      "execution_count": 120,
      "outputs": []
    },
    {
      "cell_type": "code",
      "source": [
        "# create a new \"carrier_indexed\" column\n",
        "(indexed_df.select([\"origin\", \"dest\", \"carrier\", \"carrier_indexed\"])\n",
        "                .sample(fraction=0.001, withReplacement=False, seed=rnd_seed).show())"
      ],
      "metadata": {
        "colab": {
          "base_uri": "https://localhost:8080/"
        },
        "id": "ns9ZS05BVonK",
        "outputId": "3b248943-365c-4cf5-f683-208420b40a7c"
      },
      "execution_count": 121,
      "outputs": [
        {
          "output_type": "stream",
          "name": "stdout",
          "text": [
            "+------+----+-------+---------------+\n",
            "|origin|dest|carrier|carrier_indexed|\n",
            "+------+----+-------+---------------+\n",
            "|   MIA| LGA|     AA|            2.0|\n",
            "|   SFO| DEN|     WN|            3.0|\n",
            "|   ORD| ATL|     UA|            0.0|\n",
            "|   ATL| MIA|     AA|            2.0|\n",
            "|   MIA| ORD|     AA|            2.0|\n",
            "|   DEN| ORD|     AA|            2.0|\n",
            "|   LGA| ATL|     AA|            2.0|\n",
            "|   ORD| LGA|     UA|            0.0|\n",
            "|   ATL| EWR|     DL|            1.0|\n",
            "|   MIA| BOS|     AA|            2.0|\n",
            "|   BOS| LGA|     DL|            1.0|\n",
            "|   DEN| ORD|     UA|            0.0|\n",
            "|   SFO| ORD|     UA|            0.0|\n",
            "|   ORD| DEN|     AA|            2.0|\n",
            "|   ATL| BOS|     DL|            1.0|\n",
            "|   ATL| LGA|     WN|            3.0|\n",
            "|   MIA| ATL|     AA|            2.0|\n",
            "|   SFO| MIA|     AA|            2.0|\n",
            "+------+----+-------+---------------+\n",
            "\n"
          ]
        }
      ]
    },
    {
      "cell_type": "code",
      "source": [
        "# check the encoded carrier values\n",
        "carrierIndexer.labels"
      ],
      "metadata": {
        "colab": {
          "base_uri": "https://localhost:8080/"
        },
        "id": "4hyXidIIVr8G",
        "outputId": "bdd94618-8682-4e68-eb65-4c3d94e9fa05"
      },
      "execution_count": 122,
      "outputs": [
        {
          "output_type": "execute_result",
          "data": {
            "text/plain": [
              "['UA', 'DL', 'AA', 'WN']"
            ]
          },
          "metadata": {},
          "execution_count": 122
        }
      ]
    },
    {
      "cell_type": "code",
      "source": [
        "# check the carrier code and index mapping \n",
        "indexed_df.select([\"carrier\", \"carrier_indexed\"]).distinct().show()"
      ],
      "metadata": {
        "colab": {
          "base_uri": "https://localhost:8080/"
        },
        "id": "s_Q8mSydVwZc",
        "outputId": "41dcbcd4-f408-46c2-cdf1-281e1cbf5337"
      },
      "execution_count": 123,
      "outputs": [
        {
          "output_type": "stream",
          "name": "stdout",
          "text": [
            "+-------+---------------+\n",
            "|carrier|carrier_indexed|\n",
            "+-------+---------------+\n",
            "|     UA|            0.0|\n",
            "|     DL|            1.0|\n",
            "|     WN|            3.0|\n",
            "|     AA|            2.0|\n",
            "+-------+---------------+\n",
            "\n"
          ]
        }
      ]
    },
    {
      "cell_type": "markdown",
      "source": [
        "**Experiment: Let's OneHotEncode the 'carrier' column**\n",
        "pyspark.ml.feature.OneHotEncoder maps a column of category indices to a column of binary vectors, with at most a single one-value per row that indicates the input category index. For example with 5 categories, an input value of 2.0 would map to an output vector of [0.0, 0.0, 1.0, 0.0]. The last category is not included by default (configurable via dropLast) because it makes the vector entries sum up to one, and hence linearly dependent. So an input value of 4.0 maps to [0.0, 0.0, 0.0, 0.0]. Note that this is different from scikit-learn's OneHotEncoder, which keeps all categories. The output vectors are sparse."
      ],
      "metadata": {
        "id": "jPQayoXAV018"
      }
    },
    {
      "cell_type": "code",
      "source": [
        "carrierEncoder = OneHotEncoder(inputCol=\"{0}_indexed\".format(colName), outputCol=\"{0}_encoded\".format(colName))\n",
        "ohe = carrierEncoder.fit(indexed_df)\n",
        "encoded_df = ohe.transform(indexed_df)"
      ],
      "metadata": {
        "id": "UjhFfyjbV8kP"
      },
      "execution_count": 124,
      "outputs": []
    },
    {
      "cell_type": "code",
      "source": [
        "(encoded_df.select([\"origin\", \"dest\", \"carrier\", \"carrier_indexed\", \"carrier_encoded\"])\n",
        "                 .sample(fraction=0.001, withReplacement=False, seed=rnd_seed).show())"
      ],
      "metadata": {
        "colab": {
          "base_uri": "https://localhost:8080/"
        },
        "id": "4RBfynmQWgCg",
        "outputId": "09a37cab-40f9-4a17-9403-9fcd76327a24"
      },
      "execution_count": 125,
      "outputs": [
        {
          "output_type": "stream",
          "name": "stdout",
          "text": [
            "+------+----+-------+---------------+---------------+\n",
            "|origin|dest|carrier|carrier_indexed|carrier_encoded|\n",
            "+------+----+-------+---------------+---------------+\n",
            "|   MIA| LGA|     AA|            2.0|  (3,[2],[1.0])|\n",
            "|   SFO| DEN|     WN|            3.0|      (3,[],[])|\n",
            "|   ORD| ATL|     UA|            0.0|  (3,[0],[1.0])|\n",
            "|   ATL| MIA|     AA|            2.0|  (3,[2],[1.0])|\n",
            "|   MIA| ORD|     AA|            2.0|  (3,[2],[1.0])|\n",
            "|   DEN| ORD|     AA|            2.0|  (3,[2],[1.0])|\n",
            "|   LGA| ATL|     AA|            2.0|  (3,[2],[1.0])|\n",
            "|   ORD| LGA|     UA|            0.0|  (3,[0],[1.0])|\n",
            "|   ATL| EWR|     DL|            1.0|  (3,[1],[1.0])|\n",
            "|   MIA| BOS|     AA|            2.0|  (3,[2],[1.0])|\n",
            "|   BOS| LGA|     DL|            1.0|  (3,[1],[1.0])|\n",
            "|   DEN| ORD|     UA|            0.0|  (3,[0],[1.0])|\n",
            "|   SFO| ORD|     UA|            0.0|  (3,[0],[1.0])|\n",
            "|   ORD| DEN|     AA|            2.0|  (3,[2],[1.0])|\n",
            "|   ATL| BOS|     DL|            1.0|  (3,[1],[1.0])|\n",
            "|   ATL| LGA|     WN|            3.0|      (3,[],[])|\n",
            "|   MIA| ATL|     AA|            2.0|  (3,[2],[1.0])|\n",
            "|   SFO| MIA|     AA|            2.0|  (3,[2],[1.0])|\n",
            "+------+----+-------+---------------+---------------+\n",
            "\n"
          ]
        }
      ]
    },
    {
      "cell_type": "markdown",
      "source": [
        "\n",
        "Note: The column vector is a SparseVector: (3,[0],[1.0]) means there are 3 elements and the 0th position has a 1.0. Similary, (3,[],[]) means that all positions have zeros. All position with 0's also siginifies a category value."
      ],
      "metadata": {
        "id": "dvJZhybFXwI0"
      }
    },
    {
      "cell_type": "markdown",
      "source": [
        "**Experiment: Let's OneHotEncode the 'carrier' column With dropLast=False**"
      ],
      "metadata": {
        "id": "7idnLynTX1bH"
      }
    },
    {
      "cell_type": "code",
      "source": [
        "carrierEncoder = OneHotEncoder(inputCol=\"{0}_indexed\".format(colName), outputCol=\"{0}_encoded\".format(colName), dropLast=False)\n",
        "ohe = carrierEncoder.fit(indexed_df)\n",
        "encoded_df = ohe.transform(indexed_df)"
      ],
      "metadata": {
        "id": "x8cUR_ZcX65E"
      },
      "execution_count": 126,
      "outputs": []
    },
    {
      "cell_type": "code",
      "source": [
        "(encoded_df.select([\"origin\", \"dest\", \"carrier\", \"carrier_indexed\", \"carrier_encoded\"])\n",
        "                 .sample(fraction=0.001, withReplacement=False, seed=rnd_seed).show())"
      ],
      "metadata": {
        "colab": {
          "base_uri": "https://localhost:8080/"
        },
        "id": "07NdkOtDYNvO",
        "outputId": "8f5f6e29-1bf7-429a-f7e6-01bfd0e586ac"
      },
      "execution_count": 127,
      "outputs": [
        {
          "output_type": "stream",
          "name": "stdout",
          "text": [
            "+------+----+-------+---------------+---------------+\n",
            "|origin|dest|carrier|carrier_indexed|carrier_encoded|\n",
            "+------+----+-------+---------------+---------------+\n",
            "|   MIA| LGA|     AA|            2.0|  (4,[2],[1.0])|\n",
            "|   SFO| DEN|     WN|            3.0|  (4,[3],[1.0])|\n",
            "|   ORD| ATL|     UA|            0.0|  (4,[0],[1.0])|\n",
            "|   ATL| MIA|     AA|            2.0|  (4,[2],[1.0])|\n",
            "|   MIA| ORD|     AA|            2.0|  (4,[2],[1.0])|\n",
            "|   DEN| ORD|     AA|            2.0|  (4,[2],[1.0])|\n",
            "|   LGA| ATL|     AA|            2.0|  (4,[2],[1.0])|\n",
            "|   ORD| LGA|     UA|            0.0|  (4,[0],[1.0])|\n",
            "|   ATL| EWR|     DL|            1.0|  (4,[1],[1.0])|\n",
            "|   MIA| BOS|     AA|            2.0|  (4,[2],[1.0])|\n",
            "|   BOS| LGA|     DL|            1.0|  (4,[1],[1.0])|\n",
            "|   DEN| ORD|     UA|            0.0|  (4,[0],[1.0])|\n",
            "|   SFO| ORD|     UA|            0.0|  (4,[0],[1.0])|\n",
            "|   ORD| DEN|     AA|            2.0|  (4,[2],[1.0])|\n",
            "|   ATL| BOS|     DL|            1.0|  (4,[1],[1.0])|\n",
            "|   ATL| LGA|     WN|            3.0|  (4,[3],[1.0])|\n",
            "|   MIA| ATL|     AA|            2.0|  (4,[2],[1.0])|\n",
            "|   SFO| MIA|     AA|            2.0|  (4,[2],[1.0])|\n",
            "+------+----+-------+---------------+---------------+\n",
            "\n"
          ]
        }
      ]
    },
    {
      "cell_type": "markdown",
      "source": [
        "\n",
        "Note: Although the column vector is a still a SparseVector but the encoding is of same lenght in all rows because dropLast=False: Hence the entry (3,[],[]) is the previous encoding scheme is now converted to (4,[0],[1.0]), which means there are 4 elements and the 0th position has a 1.0. Following that it means that there will be no combination where all position are 0's, there will always be a 1.0 in one of the positions."
      ],
      "metadata": {
        "id": "jZHMtRT2YQHu"
      }
    },
    {
      "cell_type": "markdown",
      "source": [
        "**6.1.2 Use a VectorAssembler to put features into a feature vector column**"
      ],
      "metadata": {
        "id": "8cyf0-sjYSSz"
      }
    },
    {
      "cell_type": "code",
      "source": [
        "(encoded_df.select([\"carrier\", \"carrier_indexed\", \"carrier_encoded\", \"dist\"])\n",
        "                 .sample(fraction=0.001, withReplacement=False, seed=rnd_seed).show())"
      ],
      "metadata": {
        "colab": {
          "base_uri": "https://localhost:8080/"
        },
        "id": "eEsaAwVSYdMA",
        "outputId": "7299b7a7-9a11-4948-f603-173bd919890b"
      },
      "execution_count": 128,
      "outputs": [
        {
          "output_type": "stream",
          "name": "stdout",
          "text": [
            "+-------+---------------+---------------+------+\n",
            "|carrier|carrier_indexed|carrier_encoded|  dist|\n",
            "+-------+---------------+---------------+------+\n",
            "|     AA|            2.0|  (4,[2],[1.0])|1096.0|\n",
            "|     WN|            3.0|  (4,[3],[1.0])| 967.0|\n",
            "|     UA|            0.0|  (4,[0],[1.0])| 606.0|\n",
            "|     AA|            2.0|  (4,[2],[1.0])| 594.0|\n",
            "|     AA|            2.0|  (4,[2],[1.0])|1197.0|\n",
            "|     AA|            2.0|  (4,[2],[1.0])| 888.0|\n",
            "|     AA|            2.0|  (4,[2],[1.0])| 762.0|\n",
            "|     UA|            0.0|  (4,[0],[1.0])| 733.0|\n",
            "|     DL|            1.0|  (4,[1],[1.0])| 746.0|\n",
            "|     AA|            2.0|  (4,[2],[1.0])|1258.0|\n",
            "|     DL|            1.0|  (4,[1],[1.0])| 184.0|\n",
            "|     UA|            0.0|  (4,[0],[1.0])| 888.0|\n",
            "|     UA|            0.0|  (4,[0],[1.0])|1846.0|\n",
            "|     AA|            2.0|  (4,[2],[1.0])| 888.0|\n",
            "|     DL|            1.0|  (4,[1],[1.0])| 946.0|\n",
            "|     WN|            3.0|  (4,[3],[1.0])| 762.0|\n",
            "|     AA|            2.0|  (4,[2],[1.0])| 594.0|\n",
            "|     AA|            2.0|  (4,[2],[1.0])|2585.0|\n",
            "+-------+---------------+---------------+------+\n",
            "\n"
          ]
        }
      ]
    },
    {
      "cell_type": "markdown",
      "source": [
        "**Experiment: Let's choose only two features 'carrier_encoded' & 'dist'**"
      ],
      "metadata": {
        "id": "YdpTyuaBYgQR"
      }
    },
    {
      "cell_type": "code",
      "source": [
        "featureCols = [\"carrier_encoded\", \"dist\"]"
      ],
      "metadata": {
        "id": "kqFBC8QXYuso"
      },
      "execution_count": 129,
      "outputs": []
    },
    {
      "cell_type": "code",
      "source": [
        "# put features into a feature vector column\n",
        "assembler = VectorAssembler(inputCols=featureCols, outputCol=\"features\") "
      ],
      "metadata": {
        "id": "dB7PKOeFY1wU"
      },
      "execution_count": 130,
      "outputs": []
    },
    {
      "cell_type": "code",
      "source": [
        "assembled_df = assembler.transform(encoded_df)"
      ],
      "metadata": {
        "id": "CCs5KA4FY4B3"
      },
      "execution_count": 131,
      "outputs": []
    },
    {
      "cell_type": "markdown",
      "source": [
        "**Result: SparseVector representation of the Feature Vectors**"
      ],
      "metadata": {
        "id": "J5iohOW0Y7vs"
      }
    },
    {
      "cell_type": "code",
      "source": [
        "(assembled_df.select([\"carrier\", \"carrier_indexed\", \"carrier_encoded\", \"dist\", \"features\"])\n",
        "                .sample(fraction=0.001, withReplacement=False, seed=rnd_seed).show(truncate=False))"
      ],
      "metadata": {
        "colab": {
          "base_uri": "https://localhost:8080/"
        },
        "id": "jHAl7KPzZGiJ",
        "outputId": "21b9a7ca-6e56-458e-a35c-8bd14a2a6862"
      },
      "execution_count": 132,
      "outputs": [
        {
          "output_type": "stream",
          "name": "stdout",
          "text": [
            "+-------+---------------+---------------+------+----------------------+\n",
            "|carrier|carrier_indexed|carrier_encoded|dist  |features              |\n",
            "+-------+---------------+---------------+------+----------------------+\n",
            "|AA     |2.0            |(4,[2],[1.0])  |1096.0|(5,[2,4],[1.0,1096.0])|\n",
            "|WN     |3.0            |(4,[3],[1.0])  |967.0 |(5,[3,4],[1.0,967.0]) |\n",
            "|UA     |0.0            |(4,[0],[1.0])  |606.0 |(5,[0,4],[1.0,606.0]) |\n",
            "|AA     |2.0            |(4,[2],[1.0])  |594.0 |(5,[2,4],[1.0,594.0]) |\n",
            "|AA     |2.0            |(4,[2],[1.0])  |1197.0|(5,[2,4],[1.0,1197.0])|\n",
            "|AA     |2.0            |(4,[2],[1.0])  |888.0 |(5,[2,4],[1.0,888.0]) |\n",
            "|AA     |2.0            |(4,[2],[1.0])  |762.0 |(5,[2,4],[1.0,762.0]) |\n",
            "|UA     |0.0            |(4,[0],[1.0])  |733.0 |(5,[0,4],[1.0,733.0]) |\n",
            "|DL     |1.0            |(4,[1],[1.0])  |746.0 |(5,[1,4],[1.0,746.0]) |\n",
            "|AA     |2.0            |(4,[2],[1.0])  |1258.0|(5,[2,4],[1.0,1258.0])|\n",
            "|DL     |1.0            |(4,[1],[1.0])  |184.0 |(5,[1,4],[1.0,184.0]) |\n",
            "|UA     |0.0            |(4,[0],[1.0])  |888.0 |(5,[0,4],[1.0,888.0]) |\n",
            "|UA     |0.0            |(4,[0],[1.0])  |1846.0|(5,[0,4],[1.0,1846.0])|\n",
            "|AA     |2.0            |(4,[2],[1.0])  |888.0 |(5,[2,4],[1.0,888.0]) |\n",
            "|DL     |1.0            |(4,[1],[1.0])  |946.0 |(5,[1,4],[1.0,946.0]) |\n",
            "|WN     |3.0            |(4,[3],[1.0])  |762.0 |(5,[3,4],[1.0,762.0]) |\n",
            "|AA     |2.0            |(4,[2],[1.0])  |594.0 |(5,[2,4],[1.0,594.0]) |\n",
            "|AA     |2.0            |(4,[2],[1.0])  |2585.0|(5,[2,4],[1.0,2585.0])|\n",
            "+-------+---------------+---------------+------+----------------------+\n",
            "\n"
          ]
        }
      ]
    },
    {
      "cell_type": "markdown",
      "source": [
        "**Combine StringIndexer, OneHotEncoder, VectorAssembler and a Transformer to put features into a feature vector column**\n",
        "<br>Let's OneHotEncode all the categorical columns</br>"
      ],
      "metadata": {
        "id": "ToPSxh38ZKBd"
      }
    },
    {
      "cell_type": "code",
      "source": [
        "# categorical columns\n",
        "categoricalColumns = [\"carrier\", \"origin\", \"dest\", \"dofW\"]"
      ],
      "metadata": {
        "id": "vFrP3uCAZUoI"
      },
      "execution_count": 133,
      "outputs": []
    },
    {
      "cell_type": "code",
      "source": [
        "for cat in categoricalColumns:\n",
        "    print(\"{0} has {1} distinct values.\".format(cat, strat_train_df.select(cat).distinct().count()))"
      ],
      "metadata": {
        "colab": {
          "base_uri": "https://localhost:8080/"
        },
        "id": "c3IFN2k5ZcMY",
        "outputId": "8ce38976-8e1b-423f-d329-49b7502ac33f"
      },
      "execution_count": 134,
      "outputs": [
        {
          "output_type": "stream",
          "name": "stdout",
          "text": [
            "carrier has 4 distinct values.\n",
            "origin has 9 distinct values.\n",
            "dest has 9 distinct values.\n",
            "dofW has 7 distinct values.\n"
          ]
        }
      ]
    },
    {
      "cell_type": "code",
      "source": [
        "# String Indexers will encode string categorical columns into a column of numeric indices\n",
        "stringIndexers = [StringIndexer(inputCol=colName, outputCol=\"{0}_indexed\".format(colName)).fit(strat_train_df) for colName in categoricalColumns]"
      ],
      "metadata": {
        "id": "YyhxPSbLbx_I"
      },
      "execution_count": 135,
      "outputs": []
    },
    {
      "cell_type": "code",
      "source": [
        "# OneHotEncoders map number indices column to column of binary vectors\n",
        "encoders = [OneHotEncoder(inputCol=\"{0}_indexed\".format(colName), outputCol=\"{0}_encoded\".format(colName), dropLast=False) for colName in categoricalColumns]"
      ],
      "metadata": {
        "id": "z6aRg26Ib26h"
      },
      "execution_count": 136,
      "outputs": []
    },
    {
      "cell_type": "code",
      "source": [
        "# Below, a Bucketizer is used to add a label of delayed 0/1. \n",
        "labeler = Bucketizer(splits=[0.0, 40.0, float(\"inf\")], inputCol=\"depdelay\", outputCol=\"label\")"
      ],
      "metadata": {
        "id": "EwVnNLsudEn9"
      },
      "execution_count": 137,
      "outputs": []
    },
    {
      "cell_type": "code",
      "source": [
        "featureCols = [\"carrier_encoded\", \"dest_encoded\", \"origin_encoded\", \"dofW_encoded\", \"crsdephour\", \"crselapsedtime\", \"crsarrtime\", \"crsdeptime\", \"dist\"]"
      ],
      "metadata": {
        "id": "9uswovxkdJAV"
      },
      "execution_count": 138,
      "outputs": []
    },
    {
      "cell_type": "code",
      "source": [
        "# The VectorAssembler combines a given list of columns into a single feature vector #column.\n",
        "assembler = VectorAssembler(inputCols=featureCols, outputCol=\"features\") "
      ],
      "metadata": {
        "id": "q7zifYWjdK_Y"
      },
      "execution_count": 139,
      "outputs": []
    },
    {
      "cell_type": "markdown",
      "source": [
        "## 7. Create Decision Tree Estimator, set Label and Feature Columns"
      ],
      "metadata": {
        "id": "mx1enwL7dTV0"
      }
    },
    {
      "cell_type": "code",
      "source": [
        "from pyspark.ml.classification import DecisionTreeClassifier\n",
        "dTree = DecisionTreeClassifier(featuresCol='features', labelCol='label', predictionCol='prediction', maxDepth=5, maxBins=7000)"
      ],
      "metadata": {
        "id": "K8JRxyI9ddDK"
      },
      "execution_count": 140,
      "outputs": []
    },
    {
      "cell_type": "markdown",
      "source": [
        "Below, we chain the indexers and tree in a Pipeline."
      ],
      "metadata": {
        "id": "mW7tTlQodhIG"
      }
    },
    {
      "cell_type": "markdown",
      "source": [
        "**7.1 Setup pipeline with feature transformers and model estimator**"
      ],
      "metadata": {
        "id": "8gqxYn7_djWA"
      }
    },
    {
      "cell_type": "code",
      "source": [
        "steps = stringIndexers + encoders + [labeler, assembler, dTree]\n",
        "steps"
      ],
      "metadata": {
        "colab": {
          "base_uri": "https://localhost:8080/"
        },
        "id": "ISrcit4_dvtm",
        "outputId": "b4a3723e-a43b-4765-9752-3483e66c93f5"
      },
      "execution_count": 141,
      "outputs": [
        {
          "output_type": "execute_result",
          "data": {
            "text/plain": [
              "[StringIndexerModel: uid=StringIndexer_839ec77dbeaa, handleInvalid=error,\n",
              " StringIndexerModel: uid=StringIndexer_5d0e4bea0f3d, handleInvalid=error,\n",
              " StringIndexerModel: uid=StringIndexer_2825b38fb0b2, handleInvalid=error,\n",
              " StringIndexerModel: uid=StringIndexer_8b77084f0408, handleInvalid=error,\n",
              " OneHotEncoder_4d944697e3c1,\n",
              " OneHotEncoder_17d93fe93c59,\n",
              " OneHotEncoder_a1480934003d,\n",
              " OneHotEncoder_8e9f2f09ec5d,\n",
              " Bucketizer_b797093a7344,\n",
              " VectorAssembler_9bf49dd775f1,\n",
              " DecisionTreeClassifier_382f1c0fecb8]"
            ]
          },
          "metadata": {},
          "execution_count": 141
        }
      ]
    },
    {
      "cell_type": "code",
      "source": [
        "pipeline = Pipeline(stages=steps)"
      ],
      "metadata": {
        "id": "H6WwgwMGd04G"
      },
      "execution_count": 142,
      "outputs": []
    },
    {
      "cell_type": "markdown",
      "source": [
        "## 8. Train the Model\n",
        "We would like to determine which parameter values of the decision tree produce the best model. A common technique for model selection is k-fold cross-validation, where the data is randomly split into k partitions. Each partition is used once as the testing dataset, while the rest are used for training. Models are then generated using the training sets and evaluated with the testing sets, resulting in k model performance measurements. The model parameters leading to the highest performance metric produce the best model.\n",
        "\n",
        "<br>Spark ML supports k-fold cross-validation with a transformation/estimation pipeline to try out different combinations of parameters, using a process called grid search, where you set up the parameters to test, and a cross-validation evaluator to construct a model selection workflow.</br>\n",
        "\n",
        "<br>Below, we use a ParamGridBuilder to construct the parameter grid. We define an Evaluator, which will evaluate the model by comparing the test label column with the test prediction column. We use a CrossValidator for model selection.</br>"
      ],
      "metadata": {
        "id": "Z9w_cEsWd26y"
      }
    },
    {
      "cell_type": "markdown",
      "source": [
        "**8.1 Set up a CrossValidator with the parameters, a tree estimator and evaluator**"
      ],
      "metadata": {
        "id": "vyyjU49CeF2u"
      }
    },
    {
      "cell_type": "code",
      "source": [
        "# set param grid to search through decision tree's maxDepth parameter for best model\n",
        "# Deeper trees are potential more accurate, but are also more likely to overfit\n",
        "paramGrid = ParamGridBuilder().addGrid(dTree.maxDepth, [4, 5, 6]).build()"
      ],
      "metadata": {
        "id": "0sLw9Fl5eXpw"
      },
      "execution_count": 143,
      "outputs": []
    },
    {
      "cell_type": "code",
      "source": [
        "#evaluator = BinaryClassificationEvaluator(rawPredictionCol='rawPrediction', labelCol=\"label\", metricName=\"areaUnderROC\")\n",
        "evaluator = MulticlassClassificationEvaluator(predictionCol='prediction', labelCol=\"label\", metricName=\"accuracy\")"
      ],
      "metadata": {
        "id": "S-NeAr0Ieain"
      },
      "execution_count": 144,
      "outputs": []
    },
    {
      "cell_type": "code",
      "source": [
        "# Set up 3-fold cross validation with paramGrid\n",
        "crossVal = CrossValidator(estimator=pipeline, evaluator=evaluator, estimatorParamMaps=paramGrid, numFolds=3)"
      ],
      "metadata": {
        "id": "KYRZUlfrec-q"
      },
      "execution_count": 145,
      "outputs": []
    },
    {
      "cell_type": "markdown",
      "source": [
        "The CrossValidator uses the Estimator Pipeline, the Parameter Grid, and the Classification Evaluator to fit the training data set and returns a model."
      ],
      "metadata": {
        "id": "6aHBq9tGejBs"
      }
    },
    {
      "cell_type": "markdown",
      "source": [
        "**8.2 Using CrossValidator Estimator to fit the training data set**"
      ],
      "metadata": {
        "id": "9FqPyBI1e4Ib"
      }
    },
    {
      "cell_type": "code",
      "source": [
        "cvModel = crossVal.fit(strat_train_df)"
      ],
      "metadata": {
        "id": "kPS0eU4RfA4d"
      },
      "execution_count": 146,
      "outputs": []
    },
    {
      "cell_type": "markdown",
      "source": [
        "\n",
        "The CrossValidator uses the ParamGridBuilder to iterate through the maxDepth parameter of the decision tree and evaluate the models, repeating 3 times per parameter value for reliable results.\n",
        "\n",
        "Next, we can get the best decision tree model, in order to print out the decision tree and feature importances. (Note that the OneHotEncoders increases the number of features. In order to understand this printout better I built a tree without the encoders, which gave a slightly lower accuracy)"
      ],
      "metadata": {
        "id": "O5D6VbH5fuW4"
      }
    },
    {
      "cell_type": "code",
      "source": [
        "cvModel.bestModel.stages"
      ],
      "metadata": {
        "colab": {
          "base_uri": "https://localhost:8080/"
        },
        "id": "5s_-kYZ6fxcE",
        "outputId": "71e111e4-a227-4944-e0db-54fb848e3c63"
      },
      "execution_count": 147,
      "outputs": [
        {
          "output_type": "execute_result",
          "data": {
            "text/plain": [
              "[StringIndexerModel: uid=StringIndexer_839ec77dbeaa, handleInvalid=error,\n",
              " StringIndexerModel: uid=StringIndexer_5d0e4bea0f3d, handleInvalid=error,\n",
              " StringIndexerModel: uid=StringIndexer_2825b38fb0b2, handleInvalid=error,\n",
              " StringIndexerModel: uid=StringIndexer_8b77084f0408, handleInvalid=error,\n",
              " OneHotEncoderModel: uid=OneHotEncoder_4d944697e3c1, dropLast=false, handleInvalid=error,\n",
              " OneHotEncoderModel: uid=OneHotEncoder_17d93fe93c59, dropLast=false, handleInvalid=error,\n",
              " OneHotEncoderModel: uid=OneHotEncoder_a1480934003d, dropLast=false, handleInvalid=error,\n",
              " OneHotEncoderModel: uid=OneHotEncoder_8e9f2f09ec5d, dropLast=false, handleInvalid=error,\n",
              " Bucketizer_b797093a7344,\n",
              " VectorAssembler_9bf49dd775f1,\n",
              " DecisionTreeClassificationModel: uid=DecisionTreeClassifier_382f1c0fecb8, depth=5, numNodes=41, numClasses=2, numFeatures=34]"
            ]
          },
          "metadata": {},
          "execution_count": 147
        }
      ]
    },
    {
      "cell_type": "markdown",
      "source": [
        "**8.3 Get the best Decision Tree Model**"
      ],
      "metadata": {
        "id": "Xl7-FDqJf1uk"
      }
    },
    {
      "cell_type": "code",
      "source": [
        "treeModel = cvModel.bestModel.stages[-1]\n",
        "treeModel"
      ],
      "metadata": {
        "colab": {
          "base_uri": "https://localhost:8080/"
        },
        "id": "ags997imf-ve",
        "outputId": "1a3edec6-c389-4a69-ecbd-b952e77e2f18"
      },
      "execution_count": 148,
      "outputs": [
        {
          "output_type": "execute_result",
          "data": {
            "text/plain": [
              "DecisionTreeClassificationModel: uid=DecisionTreeClassifier_382f1c0fecb8, depth=5, numNodes=41, numClasses=2, numFeatures=34"
            ]
          },
          "metadata": {},
          "execution_count": 148
        }
      ]
    },
    {
      "cell_type": "code",
      "source": [
        "type(treeModel)"
      ],
      "metadata": {
        "colab": {
          "base_uri": "https://localhost:8080/"
        },
        "id": "svlN040IgCzb",
        "outputId": "3f937d33-9576-4adc-bfd0-3ecf679f5daa"
      },
      "execution_count": 149,
      "outputs": [
        {
          "output_type": "execute_result",
          "data": {
            "text/plain": [
              "pyspark.ml.classification.DecisionTreeClassificationModel"
            ]
          },
          "metadata": {},
          "execution_count": 149
        }
      ]
    },
    {
      "cell_type": "markdown",
      "source": [
        "\n",
        "We find that the best tree model produced using the cross-validation process is one with a depth of 6. The toDebugString() function provides a print of the tree's decision nodes and final prediction outcomes at the end leaves. Below is a partial printout of the decision tree:"
      ],
      "metadata": {
        "id": "pUdpOA2TgF16"
      }
    },
    {
      "cell_type": "code",
      "source": [
        "print(treeModel.toDebugString)"
      ],
      "metadata": {
        "colab": {
          "base_uri": "https://localhost:8080/"
        },
        "id": "9MIiPPZogH8T",
        "outputId": "b5b716de-6df0-497b-e5de-df1f722ca202"
      },
      "execution_count": 150,
      "outputs": [
        {
          "output_type": "stream",
          "name": "stdout",
          "text": [
            "DecisionTreeClassificationModel: uid=DecisionTreeClassifier_382f1c0fecb8, depth=5, numNodes=41, numClasses=2, numFeatures=34\n",
            "  If (feature 31 <= 1556.5)\n",
            "   If (feature 32 <= 828.5)\n",
            "    If (feature 32 <= 739.0)\n",
            "     If (feature 33 <= 935.5)\n",
            "      Predict: 0.0\n",
            "     Else (feature 33 > 935.5)\n",
            "      If (feature 30 <= 140.5)\n",
            "       Predict: 1.0\n",
            "      Else (feature 30 > 140.5)\n",
            "       Predict: 0.0\n",
            "    Else (feature 32 > 739.0)\n",
            "     Predict: 0.0\n",
            "   Else (feature 32 > 828.5)\n",
            "    If (feature 8 in {1.0})\n",
            "     If (feature 18 in {1.0})\n",
            "      If (feature 31 <= 1211.5)\n",
            "       Predict: 1.0\n",
            "      Else (feature 31 > 1211.5)\n",
            "       Predict: 0.0\n",
            "     Else (feature 18 not in {1.0})\n",
            "      If (feature 32 <= 900.5)\n",
            "       Predict: 0.0\n",
            "      Else (feature 32 > 900.5)\n",
            "       Predict: 1.0\n",
            "    Else (feature 8 not in {1.0})\n",
            "     Predict: 0.0\n",
            "  Else (feature 31 > 1556.5)\n",
            "   If (feature 2 in {1.0})\n",
            "    If (feature 30 <= 325.5)\n",
            "     Predict: 0.0\n",
            "    Else (feature 30 > 325.5)\n",
            "     If (feature 30 <= 389.5)\n",
            "      If (feature 23 in {1.0})\n",
            "       Predict: 0.0\n",
            "      Else (feature 23 not in {1.0})\n",
            "       Predict: 1.0\n",
            "     Else (feature 30 > 389.5)\n",
            "      If (feature 24 in {1.0})\n",
            "       Predict: 1.0\n",
            "      Else (feature 24 not in {1.0})\n",
            "       Predict: 0.0\n",
            "   Else (feature 2 not in {1.0})\n",
            "    If (feature 27 in {1.0})\n",
            "     If (feature 1 in {1.0})\n",
            "      If (feature 32 <= 1279.5)\n",
            "       Predict: 1.0\n",
            "      Else (feature 32 > 1279.5)\n",
            "       Predict: 0.0\n",
            "     Else (feature 1 not in {1.0})\n",
            "      Predict: 0.0\n",
            "    Else (feature 27 not in {1.0})\n",
            "     If (feature 31 <= 1811.5)\n",
            "      If (feature 7 in {1.0})\n",
            "       Predict: 1.0\n",
            "      Else (feature 7 not in {1.0})\n",
            "       Predict: 0.0\n",
            "     Else (feature 31 > 1811.5)\n",
            "      If (feature 8 in {1.0})\n",
            "       Predict: 1.0\n",
            "      Else (feature 8 not in {1.0})\n",
            "       Predict: 0.0\n",
            "\n"
          ]
        }
      ]
    },
    {
      "cell_type": "code",
      "source": [
        "import json\n",
        "# Parser\n",
        "def parse(lines):\n",
        "    block = []\n",
        "    while lines :\n",
        "\n",
        "        if lines[0].startswith('If'):\n",
        "            bl = ' '.join(lines.pop(0).split()[1:]).replace('(', '').replace(')', '')\n",
        "            block.append({'name':bl, 'children':parse(lines)})\n",
        "\n",
        "\n",
        "            if lines[0].startswith('Else'):\n",
        "                be = ' '.join(lines.pop(0).split()[1:]).replace('(', '').replace(')', '')\n",
        "                block.append({'name':be, 'children':parse(lines)})\n",
        "        elif not lines[0].startswith(('If','Else')):\n",
        "            block2 = lines.pop(0)\n",
        "            block.append({'name':block2})\n",
        "        else:\n",
        "            break\n",
        "    return block\n",
        "\n",
        "# Convert Tree to JSON\n",
        "def tree_json(tree):\n",
        "    data = []\n",
        "    for line in tree.splitlines() : \n",
        "        if line.strip():\n",
        "            line = line.strip()\n",
        "            data.append(line)\n",
        "        else : break\n",
        "        if not line : break\n",
        "    res = []\n",
        "    res.append({'name':'Root', 'children':parse(data[1:])})\n",
        "    #with open('data/structure.json', 'w') as outfile:\n",
        "    #    json.dump(res[0], outfile)\n",
        "    print(json.dumps(res[0], indent=4))\n",
        "    print ('Conversion Success !')"
      ],
      "metadata": {
        "id": "hurSIER3gOKR"
      },
      "execution_count": 151,
      "outputs": []
    },
    {
      "cell_type": "code",
      "source": [
        "#tree_json(treeModel.toDebugString)"
      ],
      "metadata": {
        "id": "8KssiWAAgTXq"
      },
      "execution_count": 152,
      "outputs": []
    },
    {
      "cell_type": "markdown",
      "source": [
        "**8.4 Get the most important features affecting the delay**"
      ],
      "metadata": {
        "id": "36nMqMypgVhi"
      }
    },
    {
      "cell_type": "code",
      "source": [
        "featureCols"
      ],
      "metadata": {
        "colab": {
          "base_uri": "https://localhost:8080/"
        },
        "id": "Ixt0cf5TgdKO",
        "outputId": "c99d3fdf-57c4-4a0a-a26a-96e5b303ec40"
      },
      "execution_count": 153,
      "outputs": [
        {
          "output_type": "execute_result",
          "data": {
            "text/plain": [
              "['carrier_encoded',\n",
              " 'dest_encoded',\n",
              " 'origin_encoded',\n",
              " 'dofW_encoded',\n",
              " 'crsdephour',\n",
              " 'crselapsedtime',\n",
              " 'crsarrtime',\n",
              " 'crsdeptime',\n",
              " 'dist']"
            ]
          },
          "metadata": {},
          "execution_count": 153
        }
      ]
    },
    {
      "cell_type": "code",
      "source": [
        "treeModel.numFeatures"
      ],
      "metadata": {
        "colab": {
          "base_uri": "https://localhost:8080/"
        },
        "id": "2m-_Lh7ygf0L",
        "outputId": "8409837b-22e0-4d11-daf9-c11acc8a8da1"
      },
      "execution_count": 154,
      "outputs": [
        {
          "output_type": "execute_result",
          "data": {
            "text/plain": [
              "34"
            ]
          },
          "metadata": {},
          "execution_count": 154
        }
      ]
    },
    {
      "cell_type": "code",
      "source": [
        "treeModel.featureImportances"
      ],
      "metadata": {
        "colab": {
          "base_uri": "https://localhost:8080/"
        },
        "id": "Pq8tmrPIgivi",
        "outputId": "ce2de3ed-1f81-4cbc-9399-a0a35c150df3"
      },
      "execution_count": 155,
      "outputs": [
        {
          "output_type": "execute_result",
          "data": {
            "text/plain": [
              "SparseVector(34, {1: 0.0289, 2: 0.0695, 7: 0.0434, 8: 0.1183, 18: 0.0158, 23: 0.0049, 24: 0.0019, 27: 0.0443, 30: 0.0273, 31: 0.4854, 32: 0.1563, 33: 0.004})"
            ]
          },
          "metadata": {},
          "execution_count": 155
        }
      ]
    },
    {
      "cell_type": "code",
      "source": [
        "# the features have been encoded, so create the entire list of features\n",
        "expandedFeatureCols = []\n",
        "for i, cat in enumerate([\"carrier\", \"origin\", \"dest\", \"dofW\"]):\n",
        "    for label in stringIndexers[i].labels:\n",
        "        expandedFeatureCols.append(\"{0}_encoded_{1}\".format(cat, label))\n",
        "for feat in featureCols[4:]:\n",
        "    expandedFeatureCols.append(feat)"
      ],
      "metadata": {
        "id": "EgI90FHLglN6"
      },
      "execution_count": 156,
      "outputs": []
    },
    {
      "cell_type": "code",
      "source": [
        "len(expandedFeatureCols)"
      ],
      "metadata": {
        "colab": {
          "base_uri": "https://localhost:8080/"
        },
        "id": "TqrggXzzgng9",
        "outputId": "c93c5f57-decf-41c6-81ad-36efd0b6e653"
      },
      "execution_count": 157,
      "outputs": [
        {
          "output_type": "execute_result",
          "data": {
            "text/plain": [
              "34"
            ]
          },
          "metadata": {},
          "execution_count": 157
        }
      ]
    },
    {
      "cell_type": "code",
      "source": [
        "expandedFeatureCols"
      ],
      "metadata": {
        "colab": {
          "base_uri": "https://localhost:8080/"
        },
        "id": "QZHp8Rb1grDE",
        "outputId": "b02de007-5f80-49e2-8cd0-f1f8c7df3687"
      },
      "execution_count": 158,
      "outputs": [
        {
          "output_type": "execute_result",
          "data": {
            "text/plain": [
              "['carrier_encoded_UA',\n",
              " 'carrier_encoded_DL',\n",
              " 'carrier_encoded_AA',\n",
              " 'carrier_encoded_WN',\n",
              " 'origin_encoded_ORD',\n",
              " 'origin_encoded_ATL',\n",
              " 'origin_encoded_LGA',\n",
              " 'origin_encoded_MIA',\n",
              " 'origin_encoded_DEN',\n",
              " 'origin_encoded_EWR',\n",
              " 'origin_encoded_SFO',\n",
              " 'origin_encoded_IAH',\n",
              " 'origin_encoded_BOS',\n",
              " 'dest_encoded_ORD',\n",
              " 'dest_encoded_ATL',\n",
              " 'dest_encoded_LGA',\n",
              " 'dest_encoded_EWR',\n",
              " 'dest_encoded_SFO',\n",
              " 'dest_encoded_MIA',\n",
              " 'dest_encoded_DEN',\n",
              " 'dest_encoded_BOS',\n",
              " 'dest_encoded_IAH',\n",
              " 'dofW_encoded_1',\n",
              " 'dofW_encoded_2',\n",
              " 'dofW_encoded_5',\n",
              " 'dofW_encoded_7',\n",
              " 'dofW_encoded_4',\n",
              " 'dofW_encoded_3',\n",
              " 'dofW_encoded_6',\n",
              " 'crsdephour',\n",
              " 'crselapsedtime',\n",
              " 'crsarrtime',\n",
              " 'crsdeptime',\n",
              " 'dist']"
            ]
          },
          "metadata": {},
          "execution_count": 158
        }
      ]
    },
    {
      "cell_type": "code",
      "source": [
        "feature_importance_df = pd.DataFrame({\"feature\":expandedFeatureCols, \"importance\":treeModel.featureImportances.toArray()})\n",
        "feature_importance_df"
      ],
      "metadata": {
        "colab": {
          "base_uri": "https://localhost:8080/",
          "height": 1000
        },
        "id": "jGOsFNRLgu0r",
        "outputId": "433903f7-6ca7-4da2-bda0-da67235fa10b"
      },
      "execution_count": 159,
      "outputs": [
        {
          "output_type": "execute_result",
          "data": {
            "text/html": [
              "\n",
              "  <div id=\"df-8ed0c179-0b5e-48d6-b2b8-56557a6792e0\">\n",
              "    <div class=\"colab-df-container\">\n",
              "      <div>\n",
              "<style scoped>\n",
              "    .dataframe tbody tr th:only-of-type {\n",
              "        vertical-align: middle;\n",
              "    }\n",
              "\n",
              "    .dataframe tbody tr th {\n",
              "        vertical-align: top;\n",
              "    }\n",
              "\n",
              "    .dataframe thead th {\n",
              "        text-align: right;\n",
              "    }\n",
              "</style>\n",
              "<table border=\"1\" class=\"dataframe\">\n",
              "  <thead>\n",
              "    <tr style=\"text-align: right;\">\n",
              "      <th></th>\n",
              "      <th>feature</th>\n",
              "      <th>importance</th>\n",
              "    </tr>\n",
              "  </thead>\n",
              "  <tbody>\n",
              "    <tr>\n",
              "      <th>0</th>\n",
              "      <td>carrier_encoded_UA</td>\n",
              "      <td>0.000000</td>\n",
              "    </tr>\n",
              "    <tr>\n",
              "      <th>1</th>\n",
              "      <td>carrier_encoded_DL</td>\n",
              "      <td>0.028929</td>\n",
              "    </tr>\n",
              "    <tr>\n",
              "      <th>2</th>\n",
              "      <td>carrier_encoded_AA</td>\n",
              "      <td>0.069490</td>\n",
              "    </tr>\n",
              "    <tr>\n",
              "      <th>3</th>\n",
              "      <td>carrier_encoded_WN</td>\n",
              "      <td>0.000000</td>\n",
              "    </tr>\n",
              "    <tr>\n",
              "      <th>4</th>\n",
              "      <td>origin_encoded_ORD</td>\n",
              "      <td>0.000000</td>\n",
              "    </tr>\n",
              "    <tr>\n",
              "      <th>5</th>\n",
              "      <td>origin_encoded_ATL</td>\n",
              "      <td>0.000000</td>\n",
              "    </tr>\n",
              "    <tr>\n",
              "      <th>6</th>\n",
              "      <td>origin_encoded_LGA</td>\n",
              "      <td>0.000000</td>\n",
              "    </tr>\n",
              "    <tr>\n",
              "      <th>7</th>\n",
              "      <td>origin_encoded_MIA</td>\n",
              "      <td>0.043412</td>\n",
              "    </tr>\n",
              "    <tr>\n",
              "      <th>8</th>\n",
              "      <td>origin_encoded_DEN</td>\n",
              "      <td>0.118263</td>\n",
              "    </tr>\n",
              "    <tr>\n",
              "      <th>9</th>\n",
              "      <td>origin_encoded_EWR</td>\n",
              "      <td>0.000000</td>\n",
              "    </tr>\n",
              "    <tr>\n",
              "      <th>10</th>\n",
              "      <td>origin_encoded_SFO</td>\n",
              "      <td>0.000000</td>\n",
              "    </tr>\n",
              "    <tr>\n",
              "      <th>11</th>\n",
              "      <td>origin_encoded_IAH</td>\n",
              "      <td>0.000000</td>\n",
              "    </tr>\n",
              "    <tr>\n",
              "      <th>12</th>\n",
              "      <td>origin_encoded_BOS</td>\n",
              "      <td>0.000000</td>\n",
              "    </tr>\n",
              "    <tr>\n",
              "      <th>13</th>\n",
              "      <td>dest_encoded_ORD</td>\n",
              "      <td>0.000000</td>\n",
              "    </tr>\n",
              "    <tr>\n",
              "      <th>14</th>\n",
              "      <td>dest_encoded_ATL</td>\n",
              "      <td>0.000000</td>\n",
              "    </tr>\n",
              "    <tr>\n",
              "      <th>15</th>\n",
              "      <td>dest_encoded_LGA</td>\n",
              "      <td>0.000000</td>\n",
              "    </tr>\n",
              "    <tr>\n",
              "      <th>16</th>\n",
              "      <td>dest_encoded_EWR</td>\n",
              "      <td>0.000000</td>\n",
              "    </tr>\n",
              "    <tr>\n",
              "      <th>17</th>\n",
              "      <td>dest_encoded_SFO</td>\n",
              "      <td>0.000000</td>\n",
              "    </tr>\n",
              "    <tr>\n",
              "      <th>18</th>\n",
              "      <td>dest_encoded_MIA</td>\n",
              "      <td>0.015816</td>\n",
              "    </tr>\n",
              "    <tr>\n",
              "      <th>19</th>\n",
              "      <td>dest_encoded_DEN</td>\n",
              "      <td>0.000000</td>\n",
              "    </tr>\n",
              "    <tr>\n",
              "      <th>20</th>\n",
              "      <td>dest_encoded_BOS</td>\n",
              "      <td>0.000000</td>\n",
              "    </tr>\n",
              "    <tr>\n",
              "      <th>21</th>\n",
              "      <td>dest_encoded_IAH</td>\n",
              "      <td>0.000000</td>\n",
              "    </tr>\n",
              "    <tr>\n",
              "      <th>22</th>\n",
              "      <td>dofW_encoded_1</td>\n",
              "      <td>0.000000</td>\n",
              "    </tr>\n",
              "    <tr>\n",
              "      <th>23</th>\n",
              "      <td>dofW_encoded_2</td>\n",
              "      <td>0.004863</td>\n",
              "    </tr>\n",
              "    <tr>\n",
              "      <th>24</th>\n",
              "      <td>dofW_encoded_5</td>\n",
              "      <td>0.001938</td>\n",
              "    </tr>\n",
              "    <tr>\n",
              "      <th>25</th>\n",
              "      <td>dofW_encoded_7</td>\n",
              "      <td>0.000000</td>\n",
              "    </tr>\n",
              "    <tr>\n",
              "      <th>26</th>\n",
              "      <td>dofW_encoded_4</td>\n",
              "      <td>0.000000</td>\n",
              "    </tr>\n",
              "    <tr>\n",
              "      <th>27</th>\n",
              "      <td>dofW_encoded_3</td>\n",
              "      <td>0.044325</td>\n",
              "    </tr>\n",
              "    <tr>\n",
              "      <th>28</th>\n",
              "      <td>dofW_encoded_6</td>\n",
              "      <td>0.000000</td>\n",
              "    </tr>\n",
              "    <tr>\n",
              "      <th>29</th>\n",
              "      <td>crsdephour</td>\n",
              "      <td>0.000000</td>\n",
              "    </tr>\n",
              "    <tr>\n",
              "      <th>30</th>\n",
              "      <td>crselapsedtime</td>\n",
              "      <td>0.027273</td>\n",
              "    </tr>\n",
              "    <tr>\n",
              "      <th>31</th>\n",
              "      <td>crsarrtime</td>\n",
              "      <td>0.485432</td>\n",
              "    </tr>\n",
              "    <tr>\n",
              "      <th>32</th>\n",
              "      <td>crsdeptime</td>\n",
              "      <td>0.156263</td>\n",
              "    </tr>\n",
              "    <tr>\n",
              "      <th>33</th>\n",
              "      <td>dist</td>\n",
              "      <td>0.003997</td>\n",
              "    </tr>\n",
              "  </tbody>\n",
              "</table>\n",
              "</div>\n",
              "      <button class=\"colab-df-convert\" onclick=\"convertToInteractive('df-8ed0c179-0b5e-48d6-b2b8-56557a6792e0')\"\n",
              "              title=\"Convert this dataframe to an interactive table.\"\n",
              "              style=\"display:none;\">\n",
              "        \n",
              "  <svg xmlns=\"http://www.w3.org/2000/svg\" height=\"24px\"viewBox=\"0 0 24 24\"\n",
              "       width=\"24px\">\n",
              "    <path d=\"M0 0h24v24H0V0z\" fill=\"none\"/>\n",
              "    <path d=\"M18.56 5.44l.94 2.06.94-2.06 2.06-.94-2.06-.94-.94-2.06-.94 2.06-2.06.94zm-11 1L8.5 8.5l.94-2.06 2.06-.94-2.06-.94L8.5 2.5l-.94 2.06-2.06.94zm10 10l.94 2.06.94-2.06 2.06-.94-2.06-.94-.94-2.06-.94 2.06-2.06.94z\"/><path d=\"M17.41 7.96l-1.37-1.37c-.4-.4-.92-.59-1.43-.59-.52 0-1.04.2-1.43.59L10.3 9.45l-7.72 7.72c-.78.78-.78 2.05 0 2.83L4 21.41c.39.39.9.59 1.41.59.51 0 1.02-.2 1.41-.59l7.78-7.78 2.81-2.81c.8-.78.8-2.07 0-2.86zM5.41 20L4 18.59l7.72-7.72 1.47 1.35L5.41 20z\"/>\n",
              "  </svg>\n",
              "      </button>\n",
              "      \n",
              "  <style>\n",
              "    .colab-df-container {\n",
              "      display:flex;\n",
              "      flex-wrap:wrap;\n",
              "      gap: 12px;\n",
              "    }\n",
              "\n",
              "    .colab-df-convert {\n",
              "      background-color: #E8F0FE;\n",
              "      border: none;\n",
              "      border-radius: 50%;\n",
              "      cursor: pointer;\n",
              "      display: none;\n",
              "      fill: #1967D2;\n",
              "      height: 32px;\n",
              "      padding: 0 0 0 0;\n",
              "      width: 32px;\n",
              "    }\n",
              "\n",
              "    .colab-df-convert:hover {\n",
              "      background-color: #E2EBFA;\n",
              "      box-shadow: 0px 1px 2px rgba(60, 64, 67, 0.3), 0px 1px 3px 1px rgba(60, 64, 67, 0.15);\n",
              "      fill: #174EA6;\n",
              "    }\n",
              "\n",
              "    [theme=dark] .colab-df-convert {\n",
              "      background-color: #3B4455;\n",
              "      fill: #D2E3FC;\n",
              "    }\n",
              "\n",
              "    [theme=dark] .colab-df-convert:hover {\n",
              "      background-color: #434B5C;\n",
              "      box-shadow: 0px 1px 3px 1px rgba(0, 0, 0, 0.15);\n",
              "      filter: drop-shadow(0px 1px 2px rgba(0, 0, 0, 0.3));\n",
              "      fill: #FFFFFF;\n",
              "    }\n",
              "  </style>\n",
              "\n",
              "      <script>\n",
              "        const buttonEl =\n",
              "          document.querySelector('#df-8ed0c179-0b5e-48d6-b2b8-56557a6792e0 button.colab-df-convert');\n",
              "        buttonEl.style.display =\n",
              "          google.colab.kernel.accessAllowed ? 'block' : 'none';\n",
              "\n",
              "        async function convertToInteractive(key) {\n",
              "          const element = document.querySelector('#df-8ed0c179-0b5e-48d6-b2b8-56557a6792e0');\n",
              "          const dataTable =\n",
              "            await google.colab.kernel.invokeFunction('convertToInteractive',\n",
              "                                                     [key], {});\n",
              "          if (!dataTable) return;\n",
              "\n",
              "          const docLinkHtml = 'Like what you see? Visit the ' +\n",
              "            '<a target=\"_blank\" href=https://colab.research.google.com/notebooks/data_table.ipynb>data table notebook</a>'\n",
              "            + ' to learn more about interactive tables.';\n",
              "          element.innerHTML = '';\n",
              "          dataTable['output_type'] = 'display_data';\n",
              "          await google.colab.output.renderOutput(dataTable, element);\n",
              "          const docLink = document.createElement('div');\n",
              "          docLink.innerHTML = docLinkHtml;\n",
              "          element.appendChild(docLink);\n",
              "        }\n",
              "      </script>\n",
              "    </div>\n",
              "  </div>\n",
              "  "
            ],
            "text/plain": [
              "               feature  importance\n",
              "0   carrier_encoded_UA    0.000000\n",
              "1   carrier_encoded_DL    0.028929\n",
              "2   carrier_encoded_AA    0.069490\n",
              "3   carrier_encoded_WN    0.000000\n",
              "4   origin_encoded_ORD    0.000000\n",
              "5   origin_encoded_ATL    0.000000\n",
              "6   origin_encoded_LGA    0.000000\n",
              "7   origin_encoded_MIA    0.043412\n",
              "8   origin_encoded_DEN    0.118263\n",
              "9   origin_encoded_EWR    0.000000\n",
              "10  origin_encoded_SFO    0.000000\n",
              "11  origin_encoded_IAH    0.000000\n",
              "12  origin_encoded_BOS    0.000000\n",
              "13    dest_encoded_ORD    0.000000\n",
              "14    dest_encoded_ATL    0.000000\n",
              "15    dest_encoded_LGA    0.000000\n",
              "16    dest_encoded_EWR    0.000000\n",
              "17    dest_encoded_SFO    0.000000\n",
              "18    dest_encoded_MIA    0.015816\n",
              "19    dest_encoded_DEN    0.000000\n",
              "20    dest_encoded_BOS    0.000000\n",
              "21    dest_encoded_IAH    0.000000\n",
              "22      dofW_encoded_1    0.000000\n",
              "23      dofW_encoded_2    0.004863\n",
              "24      dofW_encoded_5    0.001938\n",
              "25      dofW_encoded_7    0.000000\n",
              "26      dofW_encoded_4    0.000000\n",
              "27      dofW_encoded_3    0.044325\n",
              "28      dofW_encoded_6    0.000000\n",
              "29          crsdephour    0.000000\n",
              "30      crselapsedtime    0.027273\n",
              "31          crsarrtime    0.485432\n",
              "32          crsdeptime    0.156263\n",
              "33                dist    0.003997"
            ]
          },
          "metadata": {},
          "execution_count": 159
        }
      ]
    },
    {
      "cell_type": "code",
      "source": [
        "feature_importance_df.sort_values(by='importance', ascending=True).plot.barh(x='feature', figsize=(6, 10));"
      ],
      "metadata": {
        "colab": {
          "base_uri": "https://localhost:8080/",
          "height": 594
        },
        "id": "SRZa60JJgy0H",
        "outputId": "11e8f2db-1232-4a2e-a6ca-358d9e8e3efd"
      },
      "execution_count": 160,
      "outputs": [
        {
          "output_type": "display_data",
          "data": {
            "image/png": "[encoded data removed]",
            "text/plain": [
              "<Figure size 432x720 with 1 Axes>"
            ]
          },
          "metadata": {
            "image/png": {
              "width": 492,
              "height": 577
            },
            "needs_background": "light"
          }
        }
      ]
    },
    {
      "cell_type": "markdown",
      "source": [
        "Decision trees are often used for feature selection because they provide an automated mechanism for determining the most important features (those closest to the tree root)."
      ],
      "metadata": {
        "id": "MCZsMfSdg9pj"
      }
    },
    {
      "cell_type": "markdown",
      "source": [
        "## 9. Predictions and Model Evaluation \n",
        "The actual performance of the model can be determined using the test data set that has not been used for any training or cross-validation activities.\n",
        "\n",
        "We transform the test Dataframe with the model pipeline, which will tranform the features according to the pipeline, estimate and then return the label predictions in a column of a new dataframe."
      ],
      "metadata": {
        "id": "q0cAt70mhLd4"
      }
    },
    {
      "cell_type": "code",
      "source": [
        "# transform the test set with the model pipeline,\n",
        "# which will map the features according to the same recipe\n",
        "predictions = cvModel.transform(test_df)"
      ],
      "metadata": {
        "id": "Pyo8PlxYhMyo"
      },
      "execution_count": 161,
      "outputs": []
    },
    {
      "cell_type": "markdown",
      "source": [
        "**9.1 Evaluate the predictions accuracy**\n",
        "<br>The evaluator will provide us with the score of the predictions. Accuracy is measured by the area under the ROC curve. The area measures the ability of the test to correctly classify true positives from false positives. A random predictor would have .5 accuracy. The closer the value is to 1 the better its predictions are. In this case, the evaluation returns 81% precision.</br>"
      ],
      "metadata": {
        "id": "tPqCS2ydhQNA"
      }
    },
    {
      "cell_type": "code",
      "source": [
        "accuracy = evaluator.evaluate(predictions)\n",
        "accuracy"
      ],
      "metadata": {
        "colab": {
          "base_uri": "https://localhost:8080/"
        },
        "id": "b6kkYfVPhaSV",
        "outputId": "7d056ce7-e487-434c-ed4b-1fefdabbea50"
      },
      "execution_count": 162,
      "outputs": [
        {
          "output_type": "execute_result",
          "data": {
            "text/plain": [
              "0.8353502904418236"
            ]
          },
          "metadata": {},
          "execution_count": 162
        }
      ]
    },
    {
      "cell_type": "markdown",
      "source": [
        "**9.2 Calculate some more metrics**\n",
        "<br>Below, we calculate some more metrics. The number of false/true positive and negative predictions is also useful:</br>\n",
        "\n",
        "- True positives are how often the model correctly predicted delayed flights.\n",
        "- False positives are how often the model incorrectly predicted delayed flights.\n",
        "- True negatives indicate how often the model correctly predicted not delayed flights.\n",
        "- False negatives indicate how often the model incorrectly predicted not delayed flights."
      ],
      "metadata": {
        "id": "zAEZud3fh1ZQ"
      }
    },
    {
      "cell_type": "code",
      "source": [
        "predlbls = predictions.select(\"prediction\", \"label\")"
      ],
      "metadata": {
        "id": "bsMaNZmtiFdV"
      },
      "execution_count": 163,
      "outputs": []
    },
    {
      "cell_type": "code",
      "source": [
        "predlbls.show()"
      ],
      "metadata": {
        "colab": {
          "base_uri": "https://localhost:8080/"
        },
        "id": "GOECDgvKiIwp",
        "outputId": "b1ef09db-4fcc-4aa2-c1ac-b5ba5e18c485"
      },
      "execution_count": 164,
      "outputs": [
        {
          "output_type": "stream",
          "name": "stdout",
          "text": [
            "+----------+-----+\n",
            "|prediction|label|\n",
            "+----------+-----+\n",
            "|       0.0|  0.0|\n",
            "|       0.0|  1.0|\n",
            "|       0.0|  0.0|\n",
            "|       0.0|  0.0|\n",
            "|       0.0|  0.0|\n",
            "|       0.0|  0.0|\n",
            "|       0.0|  0.0|\n",
            "|       0.0|  1.0|\n",
            "|       0.0|  1.0|\n",
            "|       0.0|  1.0|\n",
            "|       0.0|  0.0|\n",
            "|       0.0|  0.0|\n",
            "|       0.0|  0.0|\n",
            "|       0.0|  0.0|\n",
            "|       0.0|  0.0|\n",
            "|       0.0|  0.0|\n",
            "|       0.0|  0.0|\n",
            "|       0.0|  0.0|\n",
            "|       0.0|  0.0|\n",
            "|       0.0|  0.0|\n",
            "+----------+-----+\n",
            "only showing top 20 rows\n",
            "\n"
          ]
        }
      ]
    },
    {
      "cell_type": "code",
      "source": [
        "predlbls.filter(col(\"label\") == 0.0).count(), predlbls.where(\"label = 0.0\").count(), predlbls.filter(\"label = 0.0\").count()"
      ],
      "metadata": {
        "colab": {
          "base_uri": "https://localhost:8080/"
        },
        "id": "1OhiIEU4iMgU",
        "outputId": "69a54c79-6b48-4c36-f252-2ec72284f92b"
      },
      "execution_count": 165,
      "outputs": [
        {
          "output_type": "execute_result",
          "data": {
            "text/plain": [
              "(39665, 39665, 39665)"
            ]
          },
          "metadata": {},
          "execution_count": 165
        }
      ]
    },
    {
      "cell_type": "code",
      "source": [
        "counttotal = predictions.count()\n",
        "counttotal"
      ],
      "metadata": {
        "colab": {
          "base_uri": "https://localhost:8080/"
        },
        "id": "iIrBzJA3iOrn",
        "outputId": "2695952e-d11c-492b-b7a2-602e097e62ae"
      },
      "execution_count": 166,
      "outputs": [
        {
          "output_type": "execute_result",
          "data": {
            "text/plain": [
              "45448"
            ]
          },
          "metadata": {},
          "execution_count": 166
        }
      ]
    },
    {
      "cell_type": "code",
      "source": [
        "label0count, pred0count = predlbls.filter(col(\"label\") == 0.0).count(), predlbls.filter(col(\"prediction\") == 0.0).count()\n",
        "label0count, pred0count"
      ],
      "metadata": {
        "colab": {
          "base_uri": "https://localhost:8080/"
        },
        "id": "k4-8vl3CiRfL",
        "outputId": "f7bc7191-5962-42da-c4bd-6d261f4d3256"
      },
      "execution_count": 167,
      "outputs": [
        {
          "output_type": "execute_result",
          "data": {
            "text/plain": [
              "(39665, 42436)"
            ]
          },
          "metadata": {},
          "execution_count": 167
        }
      ]
    },
    {
      "cell_type": "code",
      "source": [
        "label1count, pred1count = predlbls.filter(col(\"label\") == 1.0).count(), predlbls.filter(col(\"prediction\") == 1.0).count()\n",
        "label1count, pred1count"
      ],
      "metadata": {
        "colab": {
          "base_uri": "https://localhost:8080/"
        },
        "id": "aaTqADHziWNX",
        "outputId": "51b29f31-7579-47c1-9892-010995695d3c"
      },
      "execution_count": 168,
      "outputs": [
        {
          "output_type": "execute_result",
          "data": {
            "text/plain": [
              "(5783, 3012)"
            ]
          },
          "metadata": {},
          "execution_count": 168
        }
      ]
    },
    {
      "cell_type": "code",
      "source": [
        "print(\"Ground Truth: {0} Not Delayed, {1} Delayed\".format(label0count, label1count))"
      ],
      "metadata": {
        "colab": {
          "base_uri": "https://localhost:8080/"
        },
        "id": "xrAVXCxgiYlY",
        "outputId": "2f345b78-846f-4a6c-e4ce-498e26556f3c"
      },
      "execution_count": 169,
      "outputs": [
        {
          "output_type": "stream",
          "name": "stdout",
          "text": [
            "Ground Truth: 39665 Not Delayed, 5783 Delayed\n"
          ]
        }
      ]
    },
    {
      "cell_type": "code",
      "source": [
        "print(\"Predicted: {0} Not Delayed, {1} Delayed\".format(pred0count, pred1count))"
      ],
      "metadata": {
        "colab": {
          "base_uri": "https://localhost:8080/"
        },
        "id": "ZhPJoYLPiba5",
        "outputId": "2fed4aa6-6699-4d33-dcc8-5d6146b0b8ab"
      },
      "execution_count": 170,
      "outputs": [
        {
          "output_type": "stream",
          "name": "stdout",
          "text": [
            "Predicted: 42436 Not Delayed, 3012 Delayed\n"
          ]
        }
      ]
    },
    {
      "cell_type": "markdown",
      "source": [
        "**Null Accuracy**"
      ],
      "metadata": {
        "id": "o1EKT0tmieHc"
      }
    },
    {
      "cell_type": "code",
      "source": [
        "# If we would have predicted everything to be Not Delayed then what would have been the accuracy\n",
        "print(\"Null Accuracy: \", label0count / counttotal)"
      ],
      "metadata": {
        "id": "a3tgikLVihvC",
        "colab": {
          "base_uri": "https://localhost:8080/"
        },
        "outputId": "e2eec911-52c2-474c-bc45-4bacd5b8a8ba"
      },
      "execution_count": 171,
      "outputs": [
        {
          "output_type": "stream",
          "name": "stdout",
          "text": [
            "Null Accuracy:  0.8727556768174617\n"
          ]
        }
      ]
    },
    {
      "cell_type": "code",
      "source": [
        "correct = predlbls.filter(col('label') == col(\"prediction\")).count()\n",
        "correct"
      ],
      "metadata": {
        "colab": {
          "base_uri": "https://localhost:8080/"
        },
        "id": "gjONNlIli2bZ",
        "outputId": "27cf0704-934b-4c21-f7b8-71b015859025"
      },
      "execution_count": 172,
      "outputs": [
        {
          "output_type": "execute_result",
          "data": {
            "text/plain": [
              "37965"
            ]
          },
          "metadata": {},
          "execution_count": 172
        }
      ]
    },
    {
      "cell_type": "code",
      "source": [
        "wrong = predlbls.filter(col('label') != col(\"prediction\")).count()\n",
        "wrong"
      ],
      "metadata": {
        "colab": {
          "base_uri": "https://localhost:8080/"
        },
        "id": "N7Pi2Subi5GR",
        "outputId": "0a13301d-ba37-414f-9b5a-0641254357a4"
      },
      "execution_count": 173,
      "outputs": [
        {
          "output_type": "execute_result",
          "data": {
            "text/plain": [
              "7483"
            ]
          },
          "metadata": {},
          "execution_count": 173
        }
      ]
    },
    {
      "cell_type": "code",
      "source": [
        "ratioWrong = float(wrong)/counttotal\n",
        "ratioWrong"
      ],
      "metadata": {
        "colab": {
          "base_uri": "https://localhost:8080/"
        },
        "id": "e2OeJNVti8yh",
        "outputId": "9d9fa695-10ae-46f1-94d9-d22a8d809d12"
      },
      "execution_count": 174,
      "outputs": [
        {
          "output_type": "execute_result",
          "data": {
            "text/plain": [
              "0.16464970955817637"
            ]
          },
          "metadata": {},
          "execution_count": 174
        }
      ]
    },
    {
      "cell_type": "code",
      "source": [
        "# We are even doing worse than the Null Accuracy\n",
        "ratioCorrect = float(correct)/counttotal\n",
        "print(\"Accuracy: {0}\".format(ratioCorrect))"
      ],
      "metadata": {
        "colab": {
          "base_uri": "https://localhost:8080/"
        },
        "id": "BSkxKrB-jAOm",
        "outputId": "55d45af8-06f8-4cda-d959-e9af17594810"
      },
      "execution_count": 175,
      "outputs": [
        {
          "output_type": "stream",
          "name": "stdout",
          "text": [
            "Accuracy: 0.8353502904418236\n"
          ]
        }
      ]
    },
    {
      "cell_type": "markdown",
      "source": [
        "We are even doing worse than the NUll Accuracy"
      ],
      "metadata": {
        "id": "_MVkckOejCyB"
      }
    },
    {
      "cell_type": "code",
      "source": [
        "truep = predlbls.filter(col(\"prediction\") == 1.0).filter(col(\"prediction\") == col(\"label\")).count()/ float(counttotal)\n",
        "print(\"True Positive: {0}\".format(truep))"
      ],
      "metadata": {
        "colab": {
          "base_uri": "https://localhost:8080/"
        },
        "id": "Sljkj6RjjKsK",
        "outputId": "753441f1-54ac-4288-9221-725bc348d13b"
      },
      "execution_count": 176,
      "outputs": [
        {
          "output_type": "stream",
          "name": "stdout",
          "text": [
            "True Positive: 0.014434078507305052\n"
          ]
        }
      ]
    },
    {
      "cell_type": "code",
      "source": [
        "truen = predlbls.filter(col(\"prediction\") == 0.0).filter(col(\"prediction\") == col(\"label\")).count()/ float(counttotal)\n",
        "print(\"True Negative: {0}\".format(truen))"
      ],
      "metadata": {
        "id": "IIywJG6wjRg7",
        "colab": {
          "base_uri": "https://localhost:8080/"
        },
        "outputId": "b229793b-29df-4417-a4cd-a660bc4b3977"
      },
      "execution_count": 177,
      "outputs": [
        {
          "output_type": "stream",
          "name": "stdout",
          "text": [
            "True Negative: 0.8209162119345186\n"
          ]
        }
      ]
    },
    {
      "cell_type": "code",
      "source": [
        "falsep = predlbls.filter(col(\"prediction\") == 1.0).filter(col(\"prediction\") != col(\"label\")).count()/ float(counttotal)\n",
        "print(\"False Positive: {0}\".format(falsep))"
      ],
      "metadata": {
        "colab": {
          "base_uri": "https://localhost:8080/"
        },
        "id": "8wpdF1FlH2YZ",
        "outputId": "bd18ad58-f5bc-42c6-a195-0828efbf9a7c"
      },
      "execution_count": 178,
      "outputs": [
        {
          "output_type": "stream",
          "name": "stdout",
          "text": [
            "False Positive: 0.051839464882943144\n"
          ]
        }
      ]
    },
    {
      "cell_type": "code",
      "source": [
        "falsen = predlbls.filter(col(\"prediction\") == 0.0).filter(col(\"prediction\") != col(\"label\")).count()/ float(counttotal)\n",
        "print(\"False Negative: {0}\".format(falsen))"
      ],
      "metadata": {
        "colab": {
          "base_uri": "https://localhost:8080/"
        },
        "id": "U9fTT8diIV2S",
        "outputId": "2e6567ce-a61a-4dfe-8c03-f44bb7978618"
      },
      "execution_count": 179,
      "outputs": [
        {
          "output_type": "stream",
          "name": "stdout",
          "text": [
            "False Negative: 0.11281024467523323\n"
          ]
        }
      ]
    },
    {
      "cell_type": "code",
      "source": [
        "precision = truep / (truep + falsep)\n",
        "print(\"Precision: {0}\".format(precision))"
      ],
      "metadata": {
        "colab": {
          "base_uri": "https://localhost:8080/"
        },
        "id": "TfhzBtSNIZdR",
        "outputId": "077a82fa-221f-4c29-d1cd-4d3db9eb3a10"
      },
      "execution_count": 180,
      "outputs": [
        {
          "output_type": "stream",
          "name": "stdout",
          "text": [
            "Precision: 0.21779548472775562\n"
          ]
        }
      ]
    },
    {
      "cell_type": "code",
      "source": [
        "recall = truep / (truep + falsen)\n",
        "print(\"Recall: {0}\".format(recall))"
      ],
      "metadata": {
        "colab": {
          "base_uri": "https://localhost:8080/"
        },
        "id": "1ulkkO2YIcoV",
        "outputId": "f23f3bd1-4cd1-417f-b03d-80b21c489e61"
      },
      "execution_count": 181,
      "outputs": [
        {
          "output_type": "stream",
          "name": "stdout",
          "text": [
            "Recall: 0.11343593290679578\n"
          ]
        }
      ]
    },
    {
      "cell_type": "code",
      "source": [
        "f1 = 2 * (precision * recall) / (precision + recall)\n",
        "print(\"F1 Score: {0}\".format(f1))"
      ],
      "metadata": {
        "colab": {
          "base_uri": "https://localhost:8080/"
        },
        "id": "a4cWABaWIhRr",
        "outputId": "04cbad9b-2781-4393-da59-c5205d6bdc97"
      },
      "execution_count": 182,
      "outputs": [
        {
          "output_type": "stream",
          "name": "stdout",
          "text": [
            "F1 Score: 0.14917566799317794\n"
          ]
        }
      ]
    },
    {
      "cell_type": "markdown",
      "source": [
        "## 9.2 We can calculate similar metrics using MulticlassMetrics"
      ],
      "metadata": {
        "id": "ZVjLMga2InD7"
      }
    },
    {
      "cell_type": "code",
      "source": [
        "metrics = MulticlassMetrics(predlbls.rdd)"
      ],
      "metadata": {
        "colab": {
          "base_uri": "https://localhost:8080/"
        },
        "id": "iCIhTMiTIstg",
        "outputId": "9d7fce4f-676c-4616-fd0a-02fd559935e4"
      },
      "execution_count": 183,
      "outputs": [
        {
          "output_type": "stream",
          "name": "stderr",
          "text": [
            "/usr/local/lib/python3.7/dist-packages/pyspark/sql/context.py:127: FutureWarning: Deprecated in 3.0.0. Use SparkSession.builder.getOrCreate() instead.\n",
            "  FutureWarning\n"
          ]
        }
      ]
    },
    {
      "cell_type": "code",
      "source": [
        "metrics.confusionMatrix().toArray()"
      ],
      "metadata": {
        "colab": {
          "base_uri": "https://localhost:8080/"
        },
        "id": "_9is55GMIwDq",
        "outputId": "1a970396-8f61-43f1-e8c7-fa54f6a3be01"
      },
      "execution_count": 184,
      "outputs": [
        {
          "output_type": "execute_result",
          "data": {
            "text/plain": [
              "array([[37309.,  2356.],\n",
              "       [ 5127.,   656.]])"
            ]
          },
          "metadata": {},
          "execution_count": 184
        }
      ]
    },
    {
      "cell_type": "code",
      "source": [
        "f1 = metrics.fMeasure(1.0)\n",
        "print(\"F1 Score: {0}\".format(f1))"
      ],
      "metadata": {
        "colab": {
          "base_uri": "https://localhost:8080/"
        },
        "id": "dbo4k3IiI4iB",
        "outputId": "de242caf-df3a-4a0c-e0dc-b3f6811d60eb"
      },
      "execution_count": 185,
      "outputs": [
        {
          "output_type": "stream",
          "name": "stdout",
          "text": [
            "F1 Score: 0.14917566799317794\n"
          ]
        }
      ]
    },
    {
      "cell_type": "code",
      "source": [
        "f1 = metrics.fMeasure(1.0)\n",
        "print(\"F1 Score: {0}\".format(f1))"
      ],
      "metadata": {
        "colab": {
          "base_uri": "https://localhost:8080/"
        },
        "id": "91qo7ApKI7UO",
        "outputId": "7c63401a-6c9e-4b37-fe87-fd2e043db2a1"
      },
      "execution_count": 186,
      "outputs": [
        {
          "output_type": "stream",
          "name": "stdout",
          "text": [
            "F1 Score: 0.14917566799317794\n"
          ]
        }
      ]
    }
  ]
}